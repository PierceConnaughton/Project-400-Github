{
 "cells": [
  {
   "cell_type": "code",
   "execution_count": 1,
   "id": "146695d4",
   "metadata": {},
   "outputs": [],
   "source": [
    "#import tensorflow for text generation\n",
    "import Twitter_API as api\n",
    "import json\n",
    "import numpy as np\n",
    "import os\n",
    "import time\n",
    "import sys\n",
    "import nltk\n",
    "import re\n",
    "import csv\n",
    "import keras\n",
    "import pickle\n",
    "\n",
    "#stop words is used to remove words such as the, a, this etc.\n",
    "from nltk.corpus import stopwords\n",
    "\n",
    "import pandas as pd \n",
    "import tensorflow as tf\n",
    "from tensorflow.keras.layers.experimental import preprocessing\n",
    "import matplotlib.pyplot as plt\n",
    "import seaborn as sns\n",
    "from keras.preprocessing.sequence import pad_sequences\n",
    "\n",
    "from keras.models import Sequential\n",
    "from keras.layers import Dense, Activation\n",
    "from keras.layers import LSTM\n",
    "from keras.callbacks import LambdaCallback, ModelCheckpoint\n",
    "from keras.preprocessing.text import Tokenizer\n",
    "import random\n",
    "import sys\n",
    "import io"
   ]
  },
  {
   "cell_type": "code",
   "execution_count": 2,
   "id": "4f8cf0f5",
   "metadata": {},
   "outputs": [
    {
     "name": "stdout",
     "output_type": "stream",
     "text": [
      "today we express our deepest gratitude to all those who have served in our armed forces. #thankavet  \n"
     ]
    },
    {
     "data": {
      "text/html": [
       "<div>\n",
       "<style scoped>\n",
       "    .dataframe tbody tr th:only-of-type {\n",
       "        vertical-align: middle;\n",
       "    }\n",
       "\n",
       "    .dataframe tbody tr th {\n",
       "        vertical-align: top;\n",
       "    }\n",
       "\n",
       "    .dataframe thead th {\n",
       "        text-align: right;\n",
       "    }\n",
       "</style>\n",
       "<table border=\"1\" class=\"dataframe\">\n",
       "  <thead>\n",
       "    <tr style=\"text-align: right;\">\n",
       "      <th></th>\n",
       "      <th>tweet</th>\n",
       "    </tr>\n",
       "  </thead>\n",
       "  <tbody>\n",
       "    <tr>\n",
       "      <th>0</th>\n",
       "      <td>today we express our deepest gratitude to all ...</td>\n",
       "    </tr>\n",
       "    <tr>\n",
       "      <th>1</th>\n",
       "      <td>busy day planned in new york. will soon be mak...</td>\n",
       "    </tr>\n",
       "    <tr>\n",
       "      <th>2</th>\n",
       "      <td>love the fact that the small groups of protest...</td>\n",
       "    </tr>\n",
       "    <tr>\n",
       "      <th>3</th>\n",
       "      <td>just had a very open and successful presidenti...</td>\n",
       "    </tr>\n",
       "    <tr>\n",
       "      <th>4</th>\n",
       "      <td>a fantastic day in d.c. met with president oba...</td>\n",
       "    </tr>\n",
       "  </tbody>\n",
       "</table>\n",
       "</div>"
      ],
      "text/plain": [
       "                                               tweet\n",
       "0  today we express our deepest gratitude to all ...\n",
       "1  busy day planned in new york. will soon be mak...\n",
       "2  love the fact that the small groups of protest...\n",
       "3  just had a very open and successful presidenti...\n",
       "4  a fantastic day in d.c. met with president oba..."
      ]
     },
     "execution_count": 2,
     "metadata": {},
     "output_type": "execute_result"
    }
   ],
   "source": [
    "#Read the data into a dataframe\n",
    "df = pd.read_csv(\"Data/popularTweets.csv\")\n",
    "\n",
    "#Renaming the columns to something more fitting and clean\n",
    "df = df.rename(columns={'Tweet_Text': 'tweet'})\n",
    "\n",
    "newDf = df[['tweet']]\n",
    "#Drop empty rows\n",
    "newDf = newDf.dropna()\n",
    "\n",
    "#store the english stop words\n",
    "#stopWords = stopwords.words('english')\n",
    "\n",
    "#the tweet will be used for the input of our NLP model\n",
    "tweets = newDf['tweet']\n",
    "\n",
    "#remove https links\n",
    "pattern = re.compile('http[s]?://(?:[a-zA-Z]|[0-9]|[$-_@.&+]|[!*\\(\\),]|(?:%[0-9a-fA-F][0-9a-fA-F]))+')\n",
    "\n",
    "def cleanTweet(tweet):\n",
    "    \n",
    "    #convert tweet to lowercase\n",
    "    tweet = tweet.lower()\n",
    "    \n",
    "    #removes http links\n",
    "    tweet = pattern.sub(' ', tweet)\n",
    "    \n",
    "    #removes any character not alphabetic or numeric and keep #\n",
    "    #tweet = re.sub(r\"[^A-Za-z0-9]\",' ', tweet)\n",
    "    \n",
    "    #return the tweet\n",
    "    return tweet\n",
    "\n",
    "tweets = tweets.apply(cleanTweet)\n",
    "\n",
    "newDf['tweet'] = tweets\n",
    "\n",
    "print(newDf['tweet'][0])\n",
    "\n",
    "newDf.head()"
   ]
  },
  {
   "cell_type": "code",
   "execution_count": 3,
   "id": "293d2a53",
   "metadata": {},
   "outputs": [
    {
     "name": "stdout",
     "output_type": "stream",
     "text": [
      "total chars: 80\n",
      "total chars: 61\n",
      "data shape (rows,cols):  (7375, 1)\n"
     ]
    },
    {
     "name": "stderr",
     "output_type": "stream",
     "text": [
      "<ipython-input-3-0955ae0d699a>:5: FutureWarning: The default value of regex will change from True to False in a future version. In addition, single character regular expressions will*not* be treated as literal strings when regex=True.\n",
      "  tweets = tweets.str.replace(c,'')\n"
     ]
    },
    {
     "data": {
      "text/html": [
       "<div>\n",
       "<style scoped>\n",
       "    .dataframe tbody tr th:only-of-type {\n",
       "        vertical-align: middle;\n",
       "    }\n",
       "\n",
       "    .dataframe tbody tr th {\n",
       "        vertical-align: top;\n",
       "    }\n",
       "\n",
       "    .dataframe thead th {\n",
       "        text-align: right;\n",
       "    }\n",
       "</style>\n",
       "<table border=\"1\" class=\"dataframe\">\n",
       "  <thead>\n",
       "    <tr style=\"text-align: right;\">\n",
       "      <th></th>\n",
       "      <th>tweet</th>\n",
       "    </tr>\n",
       "  </thead>\n",
       "  <tbody>\n",
       "    <tr>\n",
       "      <th>0</th>\n",
       "      <td>today we express our deepest gratitude to all ...</td>\n",
       "    </tr>\n",
       "    <tr>\n",
       "      <th>1</th>\n",
       "      <td>busy day planned in new york. will soon be mak...</td>\n",
       "    </tr>\n",
       "    <tr>\n",
       "      <th>2</th>\n",
       "      <td>love the fact that the small groups of protest...</td>\n",
       "    </tr>\n",
       "    <tr>\n",
       "      <th>3</th>\n",
       "      <td>just had a very open and successful presidenti...</td>\n",
       "    </tr>\n",
       "    <tr>\n",
       "      <th>4</th>\n",
       "      <td>a fantastic day in d.c. met with president oba...</td>\n",
       "    </tr>\n",
       "  </tbody>\n",
       "</table>\n",
       "</div>"
      ],
      "text/plain": [
       "                                               tweet\n",
       "0  today we express our deepest gratitude to all ...\n",
       "1  busy day planned in new york. will soon be mak...\n",
       "2  love the fact that the small groups of protest...\n",
       "3  just had a very open and successful presidenti...\n",
       "4  a fantastic day in d.c. met with president oba..."
      ]
     },
     "execution_count": 3,
     "metadata": {},
     "output_type": "execute_result"
    }
   ],
   "source": [
    "chars = sorted(list(set(''.join(tweets))))\n",
    "print('total chars:', len(chars))\n",
    "\n",
    "for c in chars[-19:]:\n",
    "    tweets = tweets.str.replace(c,'')\n",
    "    \n",
    "chars = sorted(list(set(''.join(tweets))))\n",
    "print('total chars:', len(chars))\n",
    "\n",
    "newDf['tweet'] = tweets\n",
    "\n",
    "print(\"data shape (rows,cols): \", newDf.shape)\n",
    "\n",
    "newDf.head()"
   ]
  },
  {
   "cell_type": "code",
   "execution_count": 4,
   "id": "a2d3b19a",
   "metadata": {
    "scrolled": true
   },
   "outputs": [
    {
     "name": "stdout",
     "output_type": "stream",
     "text": [
      "Count of tweets: 7375\n",
      "Length of combined tweets: 783054 characters\n"
     ]
    }
   ],
   "source": [
    "tweets = newDf.tweet\n",
    "\n",
    "n_messages = len(tweets)\n",
    "n_chars = len(' '.join(map(str, tweets)))\n",
    "\n",
    "print(f'Count of tweets: {n_messages}')\n",
    "print(f'Length of combined tweets: {n_chars} characters')"
   ]
  },
  {
   "cell_type": "code",
   "execution_count": 5,
   "id": "cc03d6e9",
   "metadata": {},
   "outputs": [
    {
     "data": {
      "text/plain": [
       "'today we express our deepest gratitude to all those who have served in our armed forces. #thankavet   busy day planned in new york. will soon be making some ver'"
      ]
     },
     "execution_count": 5,
     "metadata": {},
     "output_type": "execute_result"
    }
   ],
   "source": [
    "sample_size = int(len(tweets) * 0.2)\n",
    "\n",
    "tweets = tweets[:sample_size]\n",
    "tweets = ' '.join(map(str, tweets)).lower()\n",
    "\n",
    "#Look at first 250 characters in tweets\n",
    "tweets[:160] "
   ]
  },
  {
   "cell_type": "code",
   "execution_count": 6,
   "id": "6dea3dbd",
   "metadata": {},
   "outputs": [
    {
     "name": "stdout",
     "output_type": "stream",
     "text": [
      "58 unique characters\n"
     ]
    }
   ],
   "source": [
    "unique = sorted(set(tweets))\n",
    "print(f'{len(unique)} unique characters')"
   ]
  },
  {
   "cell_type": "code",
   "execution_count": 7,
   "id": "a596ad64",
   "metadata": {},
   "outputs": [
    {
     "data": {
      "text/plain": [
       "<tf.Tensor: shape=(149177,), dtype=string, numpy=array([b't', b'o', b'd', ..., b'd', b'!', b'!'], dtype=object)>"
      ]
     },
     "execution_count": 7,
     "metadata": {},
     "output_type": "execute_result"
    }
   ],
   "source": [
    "#split into individual characters\n",
    "chars = tf.strings.unicode_split(tweets, input_encoding='UTF-8')\n",
    "chars"
   ]
  },
  {
   "cell_type": "code",
   "execution_count": 8,
   "id": "0450c028",
   "metadata": {},
   "outputs": [
    {
     "data": {
      "text/plain": [
       "<tf.Tensor: shape=(149177,), dtype=int64, numpy=array([51, 46, 35, ..., 35,  3,  3], dtype=int64)>"
      ]
     },
     "execution_count": 8,
     "metadata": {},
     "output_type": "execute_result"
    }
   ],
   "source": [
    "char_Ids = preprocessing.StringLookup(vocabulary=list(unique), mask_token=None)\n",
    "\n",
    "#convert tokens to character IDs\n",
    "ids = char_Ids(chars)\n",
    "ids"
   ]
  },
  {
   "cell_type": "code",
   "execution_count": 9,
   "id": "edac7b8c",
   "metadata": {},
   "outputs": [
    {
     "data": {
      "text/plain": [
       "<tf.Tensor: shape=(149177,), dtype=string, numpy=array([b't', b'o', b'd', ..., b'd', b'!', b'!'], dtype=object)>"
      ]
     },
     "execution_count": 9,
     "metadata": {},
     "output_type": "execute_result"
    }
   ],
   "source": [
    "#try to get human words from representation\n",
    "chars_Vocab_Ids = tf.keras.layers.experimental.preprocessing.StringLookup(vocabulary=char_Ids.get_vocabulary(), invert=True, mask_token=None)\n",
    "\n",
    "chars = chars_Vocab_Ids(ids)\n",
    "chars"
   ]
  },
  {
   "cell_type": "code",
   "execution_count": 10,
   "id": "8ccd1624",
   "metadata": {},
   "outputs": [
    {
     "data": {
      "text/plain": [
       "b'today we express our deepest gratitude to all those who have served in our armed forces. #thankavet   busy day planned in new york. will soon be making some very important decisions on the people who will be running our government! love the fact that the small groups of protesters last night have passion for our great country. we will all come together and be proud! just had a very open and successful presidential election. now professional protesters, incited by the media, are protesting. very unfair! a fantastic day in d.c. met with president obama for first time. really good meeting, great chemistry. melania liked mrs. o a lot! happy 241st birthday to the u.s. marine corps! thank you for your service!!   such a beautiful and important evening! the forgotten man and woman will never be forgotten again. we will all come together as never before watching the returns at 9:45pm.\\n#electionnight #maga__   rt @ivankatrump: such a surreal moment to vote for my father for president of the united states! make your voice heard and vote! #election2_ rt @erictrump: join my family in this incredible movement to #makeamericagreatagain!! now it is up to you! please #vote for america! https:_ rt @donaldjtrumpjr: final push! eric and i doing dozens of radio interviews. we can win this thing! get out and vote! #maga #electionday ht_ still time to #votetrump!\\n#ivoted #electionnight   dont let up, keep getting out to vote - this election is far from over! we are doing well but there is much time left. go florida! just out according to @cnn: \"utah officials report voting machine problems across entire country\" i will be watching the election results from trump tower in manhattan with my family and friends. very exciting! #electionday     we need your vote. go to the polls! lets continue this movement! find your poll location:     vote today! go to   to find your polling location. we are going to make america great again!_   today we make america great again! today we are going to win the great state of michigan and we are going to win back the white house! thank you mi!_   rt @erictrump: sean hannity: if hillary wins, you own it   rt @donaldjtrumpjr: thanks new hampshire!!!\\n#nh #newhampshire #maga   rt @detroitnews: .@ivankatrump in michigan: this is your movement    @realdonaldtrump   unbelievable evening in new hampshire - thank you! flying to grand rapids, michigan now.\\nwatch nh rally here:_   big news to share in new hampshire tonight! polls looking great! see you soon. today in florida, i pledged to stand with the people of cuba and venezuela in their fight against oppression- cont:   thank you pennsylvania! going to new hampshire now and on to michigan. watch pa rally here:     live on #periscope: join me for a few minutes in pennsylvania. get out &amp; vote tomorrow. lets #maga!!   hey missouri lets defeat crooked hillary &amp; @koster4missouri! koster supports obamacare &amp; amnesty! vote outsider navy seal @ericgreitens! america must decide between failed policies or fresh perspective, a corrupt system or an outsider\\n  what i like about trump ... and why you need to vote for him\\n  why trump   i love you north carolina- thank you for your amazing support! get out and   tomorrow!\\nwatch:_   on my way!   just landed in north carolina- heading to the j.s. dorton arena. see you all soon! lets #makeamericagreatagain!   starting tomorrow its going to be #americafirst! thank you for a great morning sarasota, florida!\\nwatch here:_   thank you for you support virginia! in one day - get out and #votetrumppence16! #icymi:     thank you pennsylvania- i am forever grateful for your amazing support. lets make america great again! #maga_   thank you michigan! this is a movement that will never be seen again- its our last chance to #draintheswamp! watch_   our american comeback story begins 11/8/16. together, we will make america safe &amp; great again for everyone! watch:_   thank you minnesota! it is time to #draintheswamp &amp; #maga!\\n#icymi- watch:     monday - 11/7/2016\\n\\nscranton, pennsylvania at 5:30pm.\\n \\n\\ngrand rapids, michigan at 11pm._   thank you iowa - get out &amp; #votetrumppence16!\\n    rt @ivankatrump: thank you new hampshire! __   van jones: there is a crack in the blue wall  it has to do with trade:   great night in denver, colorado- thank you! together, we will make america great again!\\n#icymi watch rally here:_   rt @danscavino: join @realdonaldtrump live in denver, colorado via his #facebook page- we are here!!\\n#makeamericagreatagain__\\n  thank you reno, nevada.\\nnothing will stop us in our quest to make america safe and great again! #americafirst_   join me live in reno, nevada!\\n    join me tomorrow!\\nminnesota  2pm\\n \\n\\nmichigan  6pm\\n \\n\\nvirginia  9:30p_   #draintheswamp!\\n  top clinton aides bemoan campaign all tactics, no vision:   must act immediately: clinton charity lawyer told execs they were breaking the law\\n  watch coach mike ditka- a great guy and supporter tonight at 8pme on #wattersworld with @jessebwatters @foxnews. thank you wilmington, north carolina. we are 3 days away from the change youve been waiting for your entire life!_   thank you for the incredible support this morning tampa, florida! #icymi- watch here:     join me in denver, colorado tonight at 9:30pm:  \\n\\nnew- scranton, pennsylvania monday @ 5:30pm:   make america great again! thank you hershey, pennsylvania. get out &amp; vote on november 8th &amp; we will #maga! #rallyforriley\\n#icymi, watch here_   join me in denver, colorado tomorrow at 9:30pm!\\ntickets:   join me live in hershey, pennsylvania!\\n#makeamericagreatagain\\nlive:     the only thing that can stop this corrupt machine is you. the only force strong enough to save our country is us._   thank you ohio! vote so we can replace obamacare and save healthcare for every family in the united states! watch:_   join me live in wilmington, ohio!\\n  if obama worked as hard on straightening out our country as he has trying to protect and elect hillary, we would all be much better off! ice officers warn hillary immigration plan will unleash gangs, cartels &amp; drug violence nationwide_   thank you nh! we will end illegal immigration, stop the drugs, deport all criminal aliens&amp;save american lives! watc_   clinton aides: definitely not releasing some hrc emails:\\n  rt @teamtrump: mrs. sauciers son is in prison for having classified info on an unsecured device. @hillaryclinton did far worse &amp; is runnin_ \"the clinton campaign at obama justice\" #draintheswamp\\n  join me today in wilmington, ohio at 4pm:  \\n\\ntomorrow- tampa, florida at 10am:   there is no challenge too great, no dream outside of our reach! thank you selma, north carolina!\\n#icymi, watch here_   rt @paulareidcbs: .@cbsnews confirms fbi found emails on #anthonyweiner computer, related to hillary clinton server, that are \"new\" &amp; not p_ join me in wilmington, ohio tomorrow at 4:00pm! it is time to #draintheswamp! tickets:     #crookedhillary is unfit to serve.   thank you concord, north carolina! when we win on november 8th, we are going to washington, d.c. and we are going t_   watching my beautiful wife, melania, speak about our love of country and family. we will make you all very proud._   looking at air force one @ mia. why is he campaigning instead of creating jobs &amp; fixing obamacare? get back to work for the american people! obamacare is a total disaster. hillary clinton wants to save it by making it even more expensive. doesnt work, i will repeal and replace! my wife, melania, will be speaking in pennsylvania this afternoon. so exciting, big crowds! i will be watching from north carolina. thank you arlene! we will make america safe and great again!\\n#imwithyou #draintheswamp\\n  rt @t_lineberger: thanks @ivankatrump for coming to help win michigan! more people here than a hillary rally with less than 24 hours notice_ #makeamericagreatagain #6days   thank you orlando, florida! we are just six days away from delivering justice for every forgotten man, woman and ch_   after decades of lies and scandal, crooked hillarys corruption is closing in. #draintheswamp!   clinton camp fumed when surrogate told supporters clinton planned to betray labor on tpp post-election:\\n  \"it pays to have friends in high places- like the justice department. clearly the clintons do.\"\\n#draintheswamp!   thank you miami! in 6 days, we are going to win the great state of florida - and we are going to win back the white_   praying for the families of the two iowa police who were ambushed this morning. an attack on those who keep us safe is an attack on us all. \"@pynance: evangelical women live at #trumptower @pdpryor1 @cissieglynch @saysgabrielle  \" \"@ravenrantz: #billygrahams grand daughter #supportstrump  \"  so nice, thank you cissy graham lynch!!!! crooked hillary clinton deleted 33,000 e-mails after they were subpoenaed by the united states congress. guilty - cannot run. rigged system! i am going to repeal and replace obamacare. we will have much less expensive and much better healthcare. with hillary, costs will triple! you can change your vote in six states. so, now that you see that hillary was a big mistake, change your vote to make america great again! join me in florida tomorrow!\\n\\nmiami12pm\\n \\n\\norlando4pm\\n \\n\\npensacola7p_   thank you for your incredible support wisconsin and governor @scottwalker! it is time to #draintheswamp &amp; #maga!_   rt @danscavino: join @realdonaldtrump live in wisconsin with gov. @scottwalker, @mayorrgiuliani, @reince &amp; coach bobby knight! live: https:_ wikileaks emails reveal podesta urging clinton camp to dump emails.\\ntime to #draintheswamp!\\n  podesta urged clinton team to hand over emails after use of private server emerged   mika brzezinski: dem criticism of comey reinforcing idea theres something there\\n    hillary advisers wanted her to avoid supporting israel when talking to democrats:   trump promises special session to repeal obamacare:   kept me out of jail: top doj official involved in clinton probe represented her campaign chairman:   .@darrellissa is a very good man. help him win his congressional seat in california. #icymi: governor @mike_pence and i were in valley forge, pennsylvania today. you can watch it here:_   so terrible that crooked didnt report she got the debate questions from donna brazile, if that were me it would have been front page news! join me tomorrow in florida!\\n\\nmiami12pm\\n \\n\\norlando4pm\\n \\n\\npensacola7p_   crooked hillary should not be allowed to run for president. she deleted 33,000 e-mails after getting a subpoena from u.s. congress. rigged! wow, now leading in @abc /@washingtonpost poll 46 to 45. gone up 12 points in two weeks, mostly before the crooked hillary blow-up! look at the way crooked hillary is handling the e-mail case and the total mess she is in. she is unfit to be president. bad judgement! wow! i hear you warren, michigan. streaming live - join us america. it is time to drain the swamp!\\nwatch:   #obamacarefail #hillarycarefail   thank you grand rapids, michigan! #icymi- watch:     $25 million+ raised online in just one week! record week. #draintheswamp today we set a bigger record. contribute &gt;  legendary basketball coach bobby knight who has 900+ wins, many championships and a gold medal will be introducing_   hillarys two official favors to morocco resulted in $28 million for clinton foundation #draintheswamp\\n  join me tomorrow in michigan!\\n\\ngrand rapids at 12pm:\\n \\n\\nwarren at 3pm:\\n    beautiful rally in albuquerque, new mexico this evening - thank you. get out &amp; vote! #draintheswamp\\nwatch rally:_   \"@slh: i follow mr.trump at all of his rallies by watching them on   he is a lion-hearted warrior, who inspires hope thank you greeley, co! real change means restoring honesty to the govt. our plan will end govt. corruption! watch:_   thank you las vegas, nevada- i love you! departing for greeley, colorado now. get out &amp; vote! #icymi- watch here:_   see you tomorrow michigan!\\n\\ngrand rapids, mi tomorrow at noon:\\n \\n\\nwarren, mi tomorrow at 3pm:_   wow, twitter, google and facebook are burying the fbi criminal investigation of clinton. very dishonest media! hillary and the dems loved and praised fbi director comey just a few days ago. original evidence was overwhelming, should not have delayed! we are now leading in many polls, and many of these were taken before the criminal investigation announcement on friday - great in states! great day in colorado &amp; arizona. will be in nevada, colorado and new mexico tomorrow - join me!\\ntickets:_   thank you phoenix, arizona! time for new powerful leadership. just imagine what we can accomplish in our first 100_   so nice - great americans outside trump tower right now. thank you!   departing golden, co. for arizona now - after an unbelievable rally. watch here:  \\noverflow:   #obamacarefail   tomorrow!\\n\\nlas vegas, nv- 11a:  \\ngreeley, co- 4p:  \\nalbuquerque, nm- 7p:   \"@deplorablecbtp: \"in my mind, #donaldtrump is the only way out of this mess.\" - #philrobertson of tvs #duckdynasty\"   thank you phil! i am in colorado - big day planned - but nothing can be as big as yesterday! join me in colorado at 12pm tomorrow - or arizona at 3pm!\\n\\ntickets:\\ngolden:  \\nphoenix:_   thank you maine, new hampshire and iowa. the waiting is over! the time for change is now! we are going to_   \"@piersmorgan: bombshell: fbi reopening its investigation into hillaryclintons email server after new discovery! just landed in iowa - speaking soon! we must not let #crookedhillary take her criminal scheme into the oval office. #draintheswamp   just out: neera tanden, hillary clinton adviser said, israel is depressing. i think israel is inspiring! rt @drudge_report: wsj:  the cold clinton reality...   heading to new hampshire. will be talking about the disaster known as obamacare! if my people said the things about me that podesta &amp; hillarys people said about her, i would fire them out of self respect. \"bad instincts\" join me tonight in cedar rapids, iowa at 7pm:  \\n\\nphoenix, arizona tomorrow night at 3pm:   \"@jmoschetti1363: @johnatsrs1949 fbi must be outraged that their hands r tied she has no regard or t secret service, fbi, or (dallas)police\" rt @drudge_report: wsj:  grifters-in-chief...    thank you geneva, ohio.\\nif i am elected president, i am going to keep radical islamic terrorists out of our countr_   join @teamtrump on facebook &amp; watch tonights rally from geneva, ohio- our 3rd rally of the day. #americafirst #maga   crooked hillary launched her political career by letting terrorists off the hook. #draintheswamp_   \"@keithrowland: people in arizona just got a taste of obamacare with a 116% increase in premiums. @realdonaldtrump\" repeal and replace! i will be interviewed on @oreillyfactor tonight at 8:00 p.m. enjoy! i delivered a speech in charlotte, north carolina yesterday. i appreciate all of the feedback &amp; support. lets #maga_   join me live in toledo, ohio. time to #draintheswamp &amp; #maga!\\n  join me in cedar rapids, iowa tomorrow at 7:00pm! #maga\\n    #icymi: i agree- to all americans, i see you &amp; i hear you. i am your voice. vote to #draintheswamp with me on 11/8._   thank you springfield, ohio. get out and #votetrumppence16!\\n#icymi - watch here:     join me live in springfield, ohio!\\n  inside bill clinton inc.: hacked memo reveals intersection of charity and personal income. #draintheswamp!\\n  join me! #maga\\ntoday:\\nspringfield, oh\\ntoledo, oh\\ngeneva, oh\\nfriday:\\nmanchester, nh\\nlisbon, me\\ncedar rapids, ia\\n  i agree, @mmflint- to all americans, i see you &amp; i hear you. i am your voice. vote to #draintheswamp w/ me on 11/8.   \"clinton foundations fundraisers pressed donors to steer business to former president\"\\n  ron fournier: \"clinton used secret server to protect #circleofenrichment\\n  wikileaks drip-drop releases prove one thing: theres no nov. 8 deadline on clintons dishonesty and scandals\\n  a lot of call-ins about vote flipping at the voting booths in texas. people are not happy. big lines. what is going on? obamacare is a disaster. we must repeal &amp; replace. tired of the lies, and want to #draintheswamp? get out &amp; vote_   rt @erictrump: tune into @gma right now to catch a great interview with my father &amp; the entire family! __ #votetrumppence16   beautiful evening in kinston, north carolina - thank you! get out and vote!! you can watch tonights rally here:_   thank you charlotte, north carolina. great afternoon! #icymi - i delivered a speech on urban renewal. full speech:_   hillary said she was under sniper fire (while surrounded by usss.) turned out to be a total lie. she is not fit to_   join me in ohio tomorrow!\\nspringfield-1pm:\\n \\n\\ntoledo-4pm:\\n \\n\\ngeneva-7pm_   repeal and replace obamacare! thank you tallahassee, florida! a beautiful evening with the movement! get out &amp; vote!\\n#icymi- watch here:   thank you sanford, florida. get out &amp; vote #trumppence16! #icymi- watch this afternoons rally here:_   repeal and replace!!!\\n#obamacareinthreewords i have met &amp; spent a lot of time with families @ the remembrance project. i will fight for them everyday!_   get your ballots in colorado - i will see you soon -- and we will win!\\n#makeamericagreatagain   obama warned of rigged elections in 2008. time to #draintheswamp\\n    obamacare is a disaster. rates going through the sky - ready to explode. i will fix it. hillary cant!\\n#obamacarefailed truly honored to receive the first ever presidential endorsement from the bay of pigs veterans association. #maga_   obamacare is a disaster - as ive been saying from the beginning. time to repeal &amp; replace!\\n#obamacarefail   #obamacarefail   obamacare is a disaster! time to repeal &amp; replace! #obamacarefail\\n  #obamacarefail   #obamacarefail   get out and vote! i am your voice and i will fight for you! we will make america great again!   key obamacare premiums to jump 25% next year:\\n  #obamacare premiums are about to skyrocket --- again. crooked h will only make it worse. we will repeal &amp; replace!   as election looms, some bad news for clinton, democrats:\\n  record crowd in tampa, florida- thank you! we will win florida, #draintheswamp in washington d.c. and make america_   thank you bobby bowden for the intro tonight and your support! i hope i can do as well for florida as you have done!   my contract with the american voter will restore honesty, accountability &amp; change to washington! #draintheswamp   peter navarro: trump the bull vs. clinton the bear #draintheswamp\\n  democratic operative caught on camera: hillary personally ordered donald duck troll campaign that broke the law\\n  join me tomorrow in sanford or tallahassee, florida!\\n\\nsanford at 3pm:\\n \\n\\ntallahassee at 6pm:\\n  thank you st. augustine, florida! get out and vote! join the movement - and lets #draintheswamp! off to tampa now!_   join me live on my facebook page in st. augustine, florida! lets #draintheswamp &amp; make america great again!_   honored to receive an endorsement from @sjsopio - thank you! together, we are going to make america safe &amp; great ag_   hillary clinton had gun control supporters planted in town hall audience   leaving west palm beach, florida now - heading to st. augustine for a 3pm rally. will be in tampa at 7pm - join me:_   the clinton foundations most questionable foreign donations\\n#paytoplay #draintheswamp\\n  departing farmers round table in boynton beach, florida. get out &amp; vote- lets #maga!\\nearly voting by fl. county:_   get out to vote on 11/8/2016- and we will #draintheswamp!\\nrasmussen national\\ntrump 43%\\nclinton 41%   we are winning and the press is refusing to report it. dont let them fool you- get out and vote! #draintheswamp on november 8th! why has nobody asked kaine about the horrible views emanated on wikileaks about catholics? media in the tank for clinton but trump will win! major story that the dems are making up phony polls in order to suppress the the trump . we are going to win! wow, just came out on secret tape that crooked hillary wants to take in as many syrians as possible. we cannot let this happen - isis! clinton ally aided campaign of fbi officials wife   clinton charity got up to $56 million from nations that are anti-women, gays #crookedhillary\\n  thank you naples, florida! get out and vote #trumppence16 on 11/8.\\nlets #makeamericagreatagain!\\nfull naples rally_   the attack on mosul is turning out to be a total disaster. we gave them months of notice. u.s. is looking so dumb. vote trump and win again! #crookedhillary #paytoplay   join me in naples, florida this evening at 6:00pm! tickets:     remember - get out on november 8th &amp; vote #trumppence16. it is time to #draintheswamp -- this is our last chance!   former prosecutor: the clintons are so corrupt, everything they touch turns to molten lead\\n  thank you las vegas review journal!\\neditorial: donald trump for president   via @reviewjournal well, iran has done it again. taken two of our people and asking for a fortune for their release. this doesnt happen if im president! \"if you cant run your own house you certainly cant run the white house\" a statement made by mrs. obama about crooked hillary clinton thank you for the massive turnout tonight- cleveland, ohio! get out &amp; vote #trumppence16 on 11/8.\\nwatch rally here:_   wikileaks: clinton-kaine even lied about timing of veep pick\\n  trump lays out policies for first 100 days in white house\\n  huma abedin told clinton her secret email account caused problems\\n  just arrived in cleveland, ohio- join governor @mike_pence and i now, live via:   hillary clinton: architect of failure\\n#draintheswamp #crookedhillary\\n  unbelievable crowd of supporters in virginia beach, virginia. thank you! next stop - cleveland, ohio._   in order to #draintheswamp &amp; create a new government of, by, &amp; for the people, i need your vote! go to   lets #maga! today i introduced my contract with the american voter - our economy will be strong &amp; our people will be safe._   change has to come from outside our very broken system. #maga   crooked hillary clinton tops middle east forums islamist money list\\n  thank you gettysburg, pennsylvania! #draintheswamp   landing in pennsylvania now. great new poll this morning, thank you. lets #draintheswamp and #makeamericagreatagain_   will be in cleveland, ohio w/ @mike_pence tonight- join us:  \\n\\nnaples, florida-tomorrow @ 6pm:   \"@aztrumptrain: i #voted for donaldtrump! #arizona  #economy #immigration #jobs #veterans #bordercontrol #trade_  \" \"@jensen4law: best way to pay hillary back for what she did to @berniesanders #dncleak is a donaldtrump landslide  \" the media refuses to talk about the three new national polls that have me in first place. biggest crowds ever - watch what happens! just returned from pennsylvania where we will be bringing back their jobs. amazing crowd. will be going back tomorrow, to gettysburg! governor @mike_pence and i will be in cleveland, ohio tomorrow night at 7pm - join us! #maga\\ntickets:_   thank you to the great crowd of supporters in newtown, pennsylvania. get out &amp; vote on 11/8/16. lets #maga! watch:_   #crookedhillary sending u.s. intelligence info. to podestas hacked email is unquestionably an opsec violation   wikileaks reveals clinton camps work with very friendly and malleable reporters\\n#draintheswamp #crookedhillary\\n  donna brazile shreds obama economy - acting dnc chair says people are more in despair about how things are   \"{crooked hillary clinton created this mess, and she knows it.\"\\n#draintheswamp     clinton campaign and harry reid worked with new york times to smear state dept watchdog\\ntime to #draintheswamp!\\n  very ironic: \"in 2010 video, clinton lectured underlings on cybersecurity and guarding sensitive information\"\\n  great crowd in johnstown, pennsylvania- thank you. get out &amp; vote on 11/8! watch the movement in pa. this afternoon_   a top clinton foundation official said he could name 500 different examples of conflicts of interest.\\n  #crookedhillary was at center of negotiating $12m commitment from king mohammed vi of morocco to clinton fdn.   great crowd in fletcher, north carolina- thank you! heading to johnstown, pennsylvania now! get out on november 8th_   the results are in on the final debate and it is almost unanimous, i won! thank you, these are very exciting times. huma calls it a \"mess,\" the rest of us call it corrupt! wikileaks catches crooked in the act - again.\\n#draintheswamp   hillary &amp; obamas broken promises.\\n#repealobamacare   in addition to those without health coverage- those that have disastrous #obamacare are seeing massive premium incr_   rt @erictrump: on behalf of the entire family, we would truly be honored to have your vote! lets #makeamericagreatagain #earlyvote https:/_ rt @teamtrump: when obama took office in 2009 employer-provided premiums cost $13,375. today they are $18,142. thanks, obama. crooked hillary promised 200k jobs in ny and failed. well create 25m jobs when im president, and i will deliver!   crooked took millions from oppressive me countries. will she give the $$$ back? probably not. dont forget her slog_   trump won the third debate\\n  upcoming rallies - join me!\\n\\ntomorrow\\nfletcher, nc @ 12pm.\\n \\n\\nsaturday\\ncleveland, oh @ 7pm.\\n  #icymi - ohio rally!\\nwatch here:     want access to crooked hillary? dont forget - its going to cost you!\\n#draintheswamp #paytoplay   thank you delaware county, ohio! remember- either we win this election, or we are going to lose this country!_   if elected potus - i will stop radical islamic terrorism in this country! in order to do this, we need to_   why didnt hillary clinton announce that she was inappropriately given the debate questions - she secretly used them! crooked hillary. thank you america! #maga\\n\\nrasmussen national poll\\ndonald trump 43%\\nhillary clinton 40%   just landed in ohio. thank you america- i am honored to win the final debate for our movement. it is time to_   totally dishonest donna brazile chokes on the truth. highly illegal!\\nwatch:     the washington times presidential debate poll:\\ntrump 77% (18,290)\\nclinton 17% (4,100)\\n#draintheswamp #debate   join the movement to #maga!\\n    great poll - thank you america! once we #draintheswamp, together we will #maga__#debate   that was really exciting. made all of my points. make america great again! join my team over on my facebook page- live now! #debates\\n    the era of division is coming to an end. we will create a new future of #americanunity. first, we need to_   we cannot take four more years of barack obama and thats what youll get if you vote for hillary. #bigleaguetruth i started this campaign to make america great again. thats what im going to do. #maga #debate hillarys health care policies\\n#draintheswamp #debate   rt @teamtrump: .@realdonaldtrump is going to cut taxes big league -- crooked is going to raise taxes big league! #draintheswamp #debate htt_ we have to repeal &amp; replace #obamacare! look at what is doing to people! #draintheswamp   isis has infiltrated countries all over europe by posing as refugees, and @hillaryclinton will allow it to happen h_   the economy cannot take four more years of these same failed policies.\\n#bigleaguetruth #draintheswamp   together we can save american jobs, american lives, and american futures! #debates   usa has the greatest business people in the world but we let political hacks negotiate our deals. we need change! #bigleaguetruth #debate i will defeat isis. they have been around too long! what has our leadership been doing?\\n#draintheswamp   rt @teamtrump: what they are saying about @realdonaldtrumps great debate and @hillaryclintons bad performance\\n  htt_ after crooked @hillaryclinton allowed isis to rise, she now claims shell defeat them? laughable! heres my plan:   rt @teamtrump: \"her instincts are suboptimal.\"\\n  i opposed going into iraq. hillary voted for it. as with everything else shes supported, it was a disaster.   #bigleaguetruth #draintheswamp   bernie sanders on hrc: bad judgement. john podesta on hrc: bad instincts. #bigleaguetruth #debate hillary failed all over the world. #bigleaguetruth\\nlibya\\nsyria\\niran\\niraq\\nasia pivot\\nrussian reset\\nbenghazi_   hillary says \"take back mosul?\" we would have never lost mosul- if it wasnt for #crookedhillary. #draintheswamp   rt @teamtrump: live fact-check: trumps right. the clinton foundation has taken millions from the middle east. #draintheswamp   you should give the money back @hillaryclinton! #draintheswamp   crookeds top aides were mired in massive conflicts of interests at the state dept. we must #draintheswamp   #debate crooked @hillaryclintons foundation is a criminal enterprise. time to #draintheswamp!    #bigleaguetruth #debate moderator: respectfully, you wont answer the pay-to-play question. #debate #bigleaguetruth .@hillaryclinton loves to lie. america has had enough of the clintons! it is time to #draintheswamp! debates   shell say anything and change nothing! #maga #bigleaguetruth   i will do more in the first 30 days in office than hillary has done in the last 30 years! #debate #bigleaguetruth   crookeds camp incited violence at my rallies. these incidents werent \"spontaneous\" - like she claimed in benghazi!   #crookedhillary is nothing more than a wall street puppet! #bigleaguetruth #debate   brought to you by @hillaryclinton &amp; her campaign- in chicago, illinois.\\n#bigleaguetruth #draintheswamp   rt @teamtrump: .@realdonaldtrump will do more in the first 30 days in office than hillary has done in the last 30 years! #debate #bigleague_ our country is stagnant. weve lost jobs and business. we dont make things anymore b/c of the bill hillarys husband signed and she blessed crooked hillary has never created a job in her life. we will create 25 million jobs. think she can do that? not a c_   .@hillaryclinton has been doing this for thirty years....where has she been? #bigleaguetruth #crookedhillary gives obama an a for an economic recovery thats the slowest since wwii... #bigleaguetruth_   the choice is clear!\\n#bigleaguetruth #draintheswamp   rt @teamtrump: #crookedhillarys plan will add $1.15 trillion in new taxes. we cannot afford her! #draintheswamp #debate   i will renegotiate nafta. if i cant make a great deal, were going to tear it up. were going to get this economy running again. #debate this is what we can expect from #crookedhillary. more taxes. more spending. #bigleagetruth #draintheswamp #debates   #bigleaguetruth   .@hillaryclintons tax hikes will crush our economy. i will cut taxes -- big league.     .@hillaryclinton talking about jobs? remember what she promised upstate new york. #bigleaguetruth\\n#debates   .@hillaryclinton has been a foreign policy disaster for the american people. i will #makeamericastrongagain #debate_   moderator: hillary plan calls for more regulation and more government spending. #debate #bigleaguetruth .@hillaryclinton- you have failed, failed, and failed. #bigleaguetruth\\ntime to #draintheswamp!   hillary has called for 550% more syrian immigrants, but wont even mention radical islamic terrorists. #debate_   hey @potus - we agree!\\n#bigleaguetruth #draintheswamp   moderator: hillary paid $225,000 by a brazilian bank for a speech that called for open borders. thats a quote! #debate #bigleaguetruth rt @teamtrump: .@realdonaldtrump wants a safe america w/ stronger borders, no amnesty, and an end to sanctuary cities. he is #americafirst!_ trump &amp; clinton on immigration\\n#debate #bigleaguetruth   hillary is too weak to lead on border security-no solutions, no ideas, no credibility.she supported nafta, worst deal in us history. #debate plain &amp; simple: we should only admit into this country those who share our values and respect our people.   one of my first acts as president will be to deport the drug lords and then secure the border. #debate #maga hillary clinton will use american tax dollars to provide amnesty for thousands of illegals. i will put_   drugs are pouring into this country. if we have no border, we have no country. thats why ice endorsed me. #debate #bigleaguetruth rt @teamtrump: .@realdonaldtrump is pro-life, pro-family #bigleaguetruth #debates2016   #secondamendment #2a\\n#debates   it is so imperative that we have the right justices. #draintheswamp #debates#bigleaguetruth   .@hillaryclinton lists litany of ways she plans to restrict gun rights. 2a will not survive a hillary presidency. #debate #bigleaguetruth rt @teamtrump: .@realdonaldtrump will protect and defend the constitution #debate #bigleaguetruth #draintheswamp   the 2nd amendment is under siege. we need scotus judges who will uphold the us constitution. #debate #bigleaguetruth hillary clinton wants to create the most liberal supreme court in history #debate #draintheswamp   ready to lead. ready to make america great again. #debate #maga this is an incredible movement- we are going to take our country back! #november8th #bigleaguetruth #debate   tune in at   and get the word out #bigleaguetruth #debate help us spread the truth, stop the_   i will be handing over my twitter account to my team of deplorables for tonights #debate\\n#makeamericagreatagain unbelievable!\\nclinton campaign contractor caught in voter-fraud video is a felon who visited white house 342 times:   over 250,000 to lose health insurance in battleground north carolina due to #obamacare\\n  join my team tonight at 8:30pme!\\n    i will issue a lifetime ban against senior executive branch officials lobbying on behalf of a foreign government!_   i am going to expand the definition of lobbyist - so we close all the loopholes! #draintheswamp   obamacare premiums increasing 33% in pennsylvania - a complete disaster. it must be repealed and replaced!_   hillary clinton deleted emails with her email server technician\\n  join me in delaware, ohio tomorrow at 12:30pm! #draintheswamp\\ntickets:     top hillary adviser mocked, plotted attacks on pro-sanders civil rights leader #draintheswamp\\n  dem operative who oversaw trump rally agitators visited white house 342 times #draintheswamp\\n  state works hard, and illegally, for clinton #draintheswamp   scandals surround clintons gatekeeper at state\\n#draintheswamp   the state departments shadow government #draintheswamp\\n  more anti-catholic emails from team clinton:     it is time to #draintheswamp!\\n  food groups  emails show clinton campaign organized potential vps by race and gender:   #draintheswamp\\n  time to #draintheswamp in washington, d.c. and vote #trumppence16 on 11/8/2016. together, we will make america safe_   hillary is the most corrupt person to ever run for the presidency of the united states. #draintheswamp   clinton campaign tried to limit damage from classified info on email server #draintheswamp\\n  trump rally disrupter was once on clintons payroll\\n  rt @teamtrump: it is time to #draintheswamp in washington, d.c! vote nov. 8th to take down the #rigged system!   thank you colorado springs. if im elected president i am going to keep radical islamic terrorists out of our count_   fl, ks, me, md, mn, nj, or &amp; wv! its the last day to mail in voter reg forms. get the forms at_   rt @erictrump: nevada: a quick reminder that today is your last day to register to vote!     hillarys aides urged her to take foreign lobbyist donation and deal with attacks:   if we let crooked run the govt, history will remember 2017 as the year america lost its independence. #draintheswamp   pay-to-play. collusion. cover-ups. and now bribery? so crooked. i will #draintheswamp.   i will make our government honest again -- believe me. but first, im going to have to #draintheswamp in dc.   \"@therealmogul: 41% of american voters believe the  election could be \"stolen\" from donaldtrump due to widespread voter fraud. - politico\" great night in wi. im going to fight for every person in this country who believes government should serve the peo_   donald j. trump ethics reform plan for washington d.c.\\n  exclusive: fbi agents say comey stood in the way of clinton email investigation:\\n  get rich quick! crooked hillary clintons pay to play guide:   yet more evidence of a media-rigged election:   my wife, melania, will be interviewed tonight at 8:00pm by anderson cooper on @cnn. i have no doubt she will do very well. enjoy! i will sign the first bill to repeal #obamacare and give americans many choices and much lower rates! trump virginia office announces statewide tv ad strategy and leadership team:     join me in colorado springs, colorado tomorrow at 1:00pm! #maga\\ntickets:   crooked hillary colluded w/fbi and doj and media is covering up to protect her. its a #riggedsystem! our country d_   new polls are good because the media has deceived the public by putting women front and center with made-up stories and lies, and got caught \"journalists shower hillary clinton with campaign cash\"\\n    \"state department official accused of offering quid pro quo in clinton email scandal\"   rt @teamtrump: our thoughts are with the forces fighting isis in iraq. we must never back down against this extreme radical islamic terrori_ wow, new polls just came out from @cnn   great numbers, especially after total media hit job. leading ohio 48 - 44. rt @teamtrump: corruption confirmed: fbi confirms state dept. offered quid pro quo to cover up classified emails\\n  voter fraud! crooked hillary clinton even got the questions to a debate, and nobody says a word. can you imagine if i got the questions? unbelievable.   rt @teamtrump: __breaking__: \"state departments kennedy pressured fbi to unclassify clinton emails: fbi documents\"\\n  wikileaks proves even the clinton campaign knew crooked mishandled classified info, but no one gets charged? rigged!   we have all got to come together and win this election. we cant have four more years of obama (or worse!). of course there is large scale voter fraud happening on and before election day. why do republican leaders deny what is going on? so naive! \"@rosiegray: peter thiel chooses now to give $1.25mil in support of trump  \" \"@prisonplanet: trump accuser praised him in an email as recently as april! this is all yet another hoax.  \" terrible \"@marksimoneny: watch joe bidens long history of grabbing, kissing and groping women who are cringing:  \" cant believe these totally phoney stories, 100% made up by women (many already proven false) and pushed big time by press, have impact! all safe in orange county, north carolina. with you all the way, will never forget. now we have to win. proud of you all!  @ncgop animals representing hillary clinton and dems in north carolina just firebombed our office in orange county because we are winning @ncgop wow, interview released by wikileakes shows \"quid pro quo\" in crooked hillary e-mail probe.such a dishonest person - &amp; paul ryan does zilch! finally, in the new abc news/washington post poll, hillary clinton is down 11 points with women voters and the election is close at 47-43! paul ryan, a man who doesnt know how to win (including failed run four years ago), must start focusing on the budget, military, vets etc. the democrats have a corrupt political machine pushing crooked hillary clinton. we have paul ryan, always fighting the republican nominee! join me in wisconsin tomorrow or colorado on tuesday!\\ngreen bay- 6pm\\n \\ncolorado springs- 1pm_   the vast majority felt she should be prosecuted...\" -- even senior fbi officials thought crooked was guilty.\\n  the election is absolutely being rigged by the dishonest and distorted media pushing crooked hillary - but also at many polling places - sad weve all wondered how hillary avoided prosecution for her email scheme. wikileaks may have found the answer. obama!   hillarys staff thought her email scandal might just blow over. who would trust these people with national security?   a country that crooked hillary says has funded isis also gave wild bill $1 million for his birthday? so corrupt!   they let crooked &amp; the gang off the hook for the crime, but it looks like the cover-up is just as bad. unbelievable!   election is being rigged by the media, in a coordinated effort with the clinton campaign, by putting stories that never happened into news! polls close, but can you believe i lost large numbers of women voters based on made up events that never happened. media rigging election! watched saturday night live hit job on me.time to retire the boring and unfunny show. alec baldwin portrayal stinks. media rigging election! \"@davidshiloach: @realdonaldtrump go mr. trump! israel is behind you!\" thank you for sharing amy.   a great day in new hampshire and maine. fantastic crowds and energy! #maga thank you bangor, maine! get out &amp; #votetrumppence16 on 11/8/16- and together we will make america safe and great a_   the failing @nytimes reporters dont even call us anymore, they just write whatever they want to write, making up sources along the way! nothing ever happened with any of these women. totally made up nonsense to steal the election. nobody has more respect for women than me! the movement in portsmouth, new hampshire w/ 7k supporters. thank you! this is the biggest election of our lifetime_   landing in new hampshire soon to talk about the massive drug problem there, and all over the country. the truth is a beautiful weapon.   rt @danscavino: mr. trump removing the broken teleprompter in north carolina-in front of a massive crowd. he goes on&amp;delivers the best spee_ hillary clinton should have been prosecuted and should be in jail. instead she is running for president in what looks like a rigged election will be in bangor, maine today at 3pm- join me! #maga\\ntickets:     this election is being rigged by the media pushing false and unsubstantiated charges, and outright lies, in order to elect crooked hillary! 100% fabricated and made-up charges, pushed strongly by the media and the clinton campaign, may poison the minds of the american voter. fix! thank you @trumpwomenstour!\\n#makeamericagreatagain   thank you charlotte, north carolina! we are going to have an amazing victory on november 8th...because this is all_   make sure youre registered to vote! lets #makeamericagreatagain! we cant afford more years of failure! all info:_   thank you for your support greensboro, north carolina. next stop - charlotte! #maga\\n    what they are saying about the clinton campaigns anti-catholic bigotry:\\n  thank you to our u.s. navy for protecting our country, both in times of peace &amp; war. together, we will make america_   join me live in cincinnati, ohio!\\n#trumprally #maga\\n  join me in greensboro, north carolina tomorrow at 2:00pm! #trumprally\\n    rt @teamtrump: \"this is a crossroads in the history of our civilization that will determine whether or not we the people reclaim control ov_ dem gov. of mn. just announced that the affordable care act (obamacare) is no longer affordable. ive been saying this for years- disaster! great event in columbus- taking off for cincinnati now. great new ohio poll out- thank you!\\nohio nbc/wsj/marist poll\\ntrump 42%\\nclinton 41% just left a great rally in florida - now heading to ohio for two more. will be there soon. i am making a major speech in west palm beach, florida at noon. tune in! thank you! #maga #americafirst   join me in ohio &amp; maine!\\ncincinnati, ohio- tonight @ 7:30pm:  \\nbangor, maine - saturday @ 3pm_   the phony story in the failing @nytimes is a total fabrication. written by same people as last discredited story on women. watch! why didnt the writer of the twelve year old article in people magazine mention the \"incident\" in her story. because it did not happen! i will be in cincinnati, ohio tomorrow night at 7:30pm- join me! #ohiovotesearly #votetrumppence16\\ntickets:_   the movement in lakeland, florida. voter registration extended to 10/18. register asap @   &amp;_   the people of cuba have struggled too long. will reverse obamas executive orders and concessions towards cuba until freedoms are restored. pay to play politics.\\n#crookedhillary   very little pick-up by the dishonest media of incredible information provided by wikileaks. so dishonest! rigged system! crooked hillary clinton likes to talk about the things she will do but she has been there for 30 years - why didnt she do them? thank you florida- a movement that has never been seen before and will never be seen again. lets get out &amp;_   join me thursday in florida &amp; ohio!\\nwest palm beach, fl at noon:\\n \\ncincinnati, oh this 7:30pm:\\n  wow, @cnn town hall questions were given to crooked hillary clinton in advance of big debates against bernie sanders. hillary &amp; cnn fraud! thank you texas! if you havent registered to vote- today is your last day. go to:   &amp; get ou_   voter registration deadlines today. you can register now at:   and get out to_   dont let her fool us again.   crookeds state dept gave special attention to \"friends of bill\" after the haiti earthquake. unbelievable!   rt @donaldjtrumpjr: 13 states have voter registration deadlines today: fl, oh, pa, mi, ga, tx, nm, in, la, tn, ar, ky, sc.\\n\\nregister: https_ i hope people are looking at the disgraceful behavior of hillary clinton as exposed by wikileaks. she is unfit to run. in texas now, leaving soon for big rally in florida! the very foul mouthed sen. john mccain begged for my support during his  primary (i gave, he won), then dropped me over locker room remarks! wow. unbelievable.   disloyal rs are far more difficult than crooked hillary. they come at you from all sides. they dont know how to win - i will teach them! with the exception of cheating bernie out of the nom the dems have always proven to be far more loyal to each other than the republicans! it is so nice that the shackles have been taken off me and i can now fight for america the way i want to. rt @erictrump: 13 states have voter registration deadlines today: fl, oh, pa, mi, ga, tx, nm, in, la, tn, ar, ky, sc.\\n\\nregister:   our very weak and ineffective leader, paul ryan, had a bad conference call where his members went wild at his disloyalty. despite winning the second debate in a landslide (every poll), it is hard to do well when paul ryan and others give zero support! thank you pennsylvania. this is a movement like we have never seen before! #votetrumppence16 on 11/8/16- together,_   is this really america? terrible!   wow, @cnn got caught fixing their \"focus group\" in order to make crooked hillary look better. really pathetic and totally dishonest! debate polls look great - thank you!\\n#maga #americafirst   cnn is the worst - fortunately they have bad ratings because everyone knows they are biased.   paul ryan should spend more time on balancing the budget, jobs and illegal immigration and not waste his time on fighting republican nominee thank you for all of the great comments on the debate last night. very exciting! thank you st. louis, missouri!\\n#makeamericagreatagain\\n    rt @mike_pence: congrats to my running mate @realdonaldtrump on a big debate win! proud to stand with you as we #maga. rt @teamtrump: rt if you agree @realdonaldtrump won the #debate- big league! #maga   rt @donaldjtrumpjr: someone please fact check her coal comments. give me a break. #debates rt @teamtrump: its us vs. them! @realdonaldtrump will fight for you! #bigleaguetruth #debates my pro-growth econ plan:\\neliminate excessive regulations!\\nlean government!\\nlower taxes!\\n#debates_   hypocrite: @hillaryclinton is the single biggest beneficiary of citizens united in history, by far. #debate #bigleaguetruth rt @donaldjtrumpjr: ironic since hillary has gotten a lot more of that \"dark unaccountable money\" into her campaign. #debates rt @teamtrump: \"she calls our people deplorable and irredeemable. i will be a president for all of our people.\" - @realdonaldtrump #bigleag_ rt @kellyannepolls: after a decent first debate, @hillaryclinton is back to form: pedantic, lawyerly, technocratic, (woefully untruthful) r_ our country has the slowest growth since 1929. #bigleaguetruth #debate rt @danscavino: we love our deplorables!!!\\n#trumptrain #debates2016   @ac360: how can you unite a country if youve written off tens of millions of americans? #deplorables #bigleaguetruth #debate this country cannot take four more years of barack obama! #debate we agree @potus-\\n\\n\"shell (hillary clinton) say anything &amp; change nothing. its time to turn the page\" -president obama if @hillaryclinton is president, shell be all talk and nothing will get done. #debate #bigleaguetruth fact  on red line in syria: hrc \"i wasnt there.\" fact: line drawn in aug 12. hrc secy of state til feb 13.   in my administration, every american will be treated equally, protected equally, and honored equally #debate #bigleaguetruth rt @teamtrump: its hard to fight terrorism when youre making cash payments to the worlds largest state sponsor of terror. under trump: n_ rt @teamtrump: .@hillaryclinton had her chance and she blew it. #bigleaguetruth #debates   rt @teamtrump: \"we are going to be thriving again.\" - @realdonaldtrump #bigleaguetruth #debates2016   we cannot let this evil continue! #debates2016   this is the definition of ransom    rt @jasonmillerindc: is @realdonaldtrump debating crooked @hillaryclinton or the moderators, @ac360 and @martharaddatz? #rattledhillary the world is most peaceful, and most prosperous when america is strongest.   here are hillary clintons \"accomplishments\" at the state department.\\n#debates2016 #rattledhillary   rt @teamtrump: #rattledhillary wants to talk about her 30 years in service. how about her 30 years of flopsflops?! #bigleaguetruth #debat_ rt @teamtrump: .@hillaryclinton is raising your taxes to a disastrous level. @realdonaldtrump is going to lower your taxes - big league! #d_ history lesson: theres a big difference between hillary clinton and abraham lincoln. for one, his nickname is hone_   were going to cut taxes big league for the middle class. shes raising your taxes and im lowering your taxes!\\n  \"you need both a public and a private position\"\\n@hillaryclinton #debates2016   hypocrite! @hillaryclinton claims she needs a public and a private stance in discussions with wall street banks. #debate i hope when the msm runs its interruption counters they consider the # of times the moderators interrupted me com_   .@hillaryclinton - its called extreme vetting! #debates2016   .@hillaryclinton #icymi- \"we are not in a narrative fight.\"\\n@mike_pence #maga   rt @teamtrump: only @realdonaldtrump will end what even @billclinton called a crazy system. #bigleaguetruth #debate   #crookedhillary has failed all over the world!\\n#bigleaguetruth #debates2016   rt @realdonaldtrump: attn: @hillaryclinton - why did five of your staffers need fbi immunity?! #bigleaguetruth #debates .@hillaryclinton is not above the law!\\n#debates2016   rt @teamtrump: we agree with bill, obamacare is the craziest thing in the world. #bigleaguetruth #debates2016   .@hillaryclinton : bill clarified what he meant when calling obamacare a disaster. actually disaster is pretty clear. #debate we must repeal obamacare and replace it with a much more competitive, comprehensive, affordable system. #debate #maga obama and clinton told the same lie to sell #obamacare. #debates2016   attn: @hillaryclinton - why did five of your staffers need fbi immunity?! #bigleaguetruth #debates hillarys 33,000 deleted emails about her daughters wedding. thats a lot of wedding emails. #debate basically nothing hillary has said about her secret server has been true. #crookedhillary if i win-i am going to instruct my ag to get a special prosecutor to look into your situation bc theres never been anything like your lies. rt @teamtrump: rt if you believe @hillaryclinton is the one who owes america an apology! #bigleaguetruth #debates   donald j. trumps history of empowering women #bigleaguetruth\\n  theres never been anyone more abusive to women in politics than bill clinton.my words were unfortunate-the clintons actions were far worse rt @teamtrump: quite simply, @hillaryclinton mistreats women. #bigleaguetruth #debate2016\\n    im not proud of my locker room talk. but this world has serious problems. we need serious leaders. #debate #bigleaguetruth rt @teamtrump: .@realdonaldtrump is here to talk about the real issues #bigleaguetruth #debates2016   its this simple. make america great again. #debate #bigleaguetruth rt @teamtrump: .@hillaryclinton just claimed she has a \"positive, optimistic view\" for america. #debates   my team of deplorables will be taking over my twitter account for tonights #debate\\n#makeamericagreatagain join me on #facebooklive as i conclude my final #debate preparations.   the palestinian terror attack today reminds the world of the grievous perils facing israeli citizens....continued:\\n  exclusive videobroaddrick, willey, jones to bills defenders: these are crimes, terrified of enabler hillary\\n  la times- usc dornsife sunday poll: donald trump retains 2 point lead over hillary:\\n  so many self-righteous hypocrites. watch their poll numbers - and elections - go down! \"@henryleledog: @realdonaldtrump this black democrat is on the \"trump train\"!!\" \"@maidaa17: @realdonaldtrump gop traitors! not supporting u is voting for her, destroying america. \"@charleneosbor17: @realdonaldtrump politicians dont count. its the people. we are behind trump all the way to white house.\" \"@eericmyers: @realdonaldtrump  \"republican leadership\" should have only one job: help elect the nominee we voted for, donald j. trump.\" \"@jodygirl1010: @realdonaldtrump i am a woman who continues to support &amp; stand with #trump! #dtmag  \" thank you. exclusive  video interview: bill clinton accuser juanita broaddrick relives brutal rapes:\\n  tremendous support (except for some republican \"leadership\"). thank you. thank you to my great supporters in wisconsin. i heard that the crowd and enthusiasm was unreal! rt @atensnut: hillary calls trumps remarks \"horrific\" while she lives with and protects a \"rapist\".  her actions are horrific. rt @atensnut: how many times must it be said? actions speak louder than words. dt said bad things!hrc threatened me after bc raped me. the media and establishment want me out of the race so badly -  i will never drop out of the race, will never let my supporters down! #maga certainly has been an interesting 24 hours! here is my statement.   thoughts &amp; prayers with the millions of people in the path of hurricane matthew. look out for neighbors, and listen_   \"@kevcirilli: trump speaking in exact same tone he did in waterville valley on 12/1. the night i first realized he was gonna be gop nominee\" new national rasmussen poll:   thank you tennessee! #maga   rt @jasonmillerindc: rasmussen national poll: trump leads 43-41. white house watch - rasmussen reports   vote #trumppence16 on 11/8/16!   donald trump: a president for all americans   volunteer to be a trump election observer. sign up today!\\n#makeamericagreatagain\\n  rt @donaldjtrumpjr: great group at our victory office in columbus, ohio. im incredibly grateful to have so many_   rt @ivankatrump: thank you angie phillips for inviting me to tour your plant middletown tube works. #ohio   praying for everyone in florida. hoping the hurricane dissipates, but in any event, please be careful. new virginia poll- thank you! we are going to show the whole world that america is back  bigger, and better, and s_   pennsylvania poll just released. two rallies there on mon- join me!\\nambridge:  \\nwilkes-barre:_   nations immigration and customs enforcement officers (ice) make first-ever presidential endorsement:\\n  such a great honor!\\n  amazing rally in reno, nevada- thank you. make sure you get out on 11/8 &amp; vote #trumppence16. together, we will put_   reuters polling just out- thank you!\\n#makeamericagreatagain   thank you south carolina! everyone has to get out and vote on 11/8/16.\\n#makeamericagreatagain_   early voting: mn &amp; ia already underway, more states coming up in the next week: oh, me, az, in  check w/local officials for details &amp; vote! small business says trump is their pick for president\\n  thank you @senjohnmccain for your kind remarks on the important issue of ptsd and the dishonest media. great to be in arizona yesterday! bill clinton is right: obamacare is crazy, doesnt work and doesnt make sense.  thanks bill for telling the truth. thank you henderson, nv. this is a movement like never seen before! watch some of the rally via my facebook page:_   about to begin a rally here in henderson, nevada. new reuters poll just out- thank you! join the movement:_   beautiful morning- thank you @iclv!   the constant interruptions last night by tim kaine should not have been allowed. mike pence won big! mike pence won big. we should all be proud of mike! rt @mike_pence: history teaches us that weakness arouses evil. america needs to be strong on the world stage. #vpdebate   rt @teamtrump: rt if you agree - @hillaryclinton &amp; @timkaine are wrong for america! #vpdebate #maga   rt @teamtrump: .@timkaines abortion flip-flops: from valuing the sanctity of life --&gt; pro-abortion demagogue #vpdebate   \"@anyonetennis: @timkaine cannot believe how often the moderator interrupts #pence vs the other guy...so obvious @foxnews\"  so true! \"@gsimmons03ginny: @realdonaldtrump ..kaine is awful, trump and pence are the ticket..no more lies, we are ready to see america great again! clintons top aides were mired in conflict of interest at the state department:  \\n#vpdebate #bigleaguetruth \"@flifeforce: @_cfj_ @vine that is a reason to not vote for hillary clinton. vote for liberty! vote for @realdonaldtrump\" .@hillaryclintons careless use of a secret server put national security at risk:   #vpdebate\\n#bigleaguetruth clinton is weak on north korea:\\n  #vpdebate rt @teamtrump: obama-clinton failed foreign policy:\\n-bad nuclear deal\\n-ransom payment to leading state sponsor of terror\\n-sharing classifie_ rt @teamtrump: .@hillaryclinton &amp; @timkaine think youre #deplorables &amp; #basementdwellers. @realdonaldtrump &amp; @mike_pence think youre patr_ clintons close ties to putin deserve scrutiny:\\n  #vpdebate sanctions relief from clinton-obama iran nuclear deal likely go to terrorists:\\n  #bigleaguetruth #vpdebate .@timkaine is wrong for defense:\\n \\n#bigleaguetruth #vpdebate icymi: pence: i ran a state that worked; kaine ran a state that failed.   .@timkaine is the anti-defense senator. #vpdebate #bigleaguetruth   rt @teamtrump: we need strong, broad-shouldered leadership like @mike_pence &amp; @realdonaldtrump in the white house! #vpdebate #bigleaguetrut_ clintons flailing syria policy was judged a failure:\\n  #vpdebate rt @gop: in @timkaines own words  #debates2016   .@mike_pence and i will defeat #isis.\\n  #vpdebate what they are saying about mike pence dominating the debate:\\n  #vpdebate i agree mike - thank you to all of our law enforcement officers! #vpdebate\\n\\n\"police officers are the best of us...\"\\n@mike_pence .@hillaryclinton sneers at millions of average americans.\\n \\n#vpdebate #bigleaguetruth rt @teamtrump: police officers are the best of us. law enforcement in this country is a force for good.\" - @mike_pence #vpdebate #bigleagu_ \"@geeveem: @realdonaldtrump @susiesentinel pence is so prepared! he did his homework to outperform kaine.\" rt @teamtrump: law enforcement officers bring communities together &amp; keep us safe. @mike_pence &amp; @realdonaldtrump respect &amp; stand by them!_ rt @seanspicer: .@timkaine wants to tough on crime - fails to talk about defending rapists and murders #vpdebate .@timkaine oversaw unemployment increase by 179,249 while @mike_pence decreased unemployment in indiana by 113,826._   \"@aldonturnaolco1: @frankluntz @marthamaccallum @realdonaldtrump good!!\" \"@bcuzimdamomma: @freedavidking no she only gets #americans killed #benghazi - we need @realdonaldtrump #maga\" \"@ifdanyt: @realdonaldtrump loving @mike_pence hes so likeable and sensible. kaine is just talking bull! \"@carol_lcnixon67: @realdonaldtrump kaine says hillary and he have plans. she could care less what kaine thinks.\" \"@arsenmissyirvin: i want a \"youre fired\" president with people in govt who are wasting my tax $s. @realdonaldtrump\" .@mike_pence is doing a great job - so far, no contest! \"@teamtrump: .@mike_pence &amp; @realdonaldtrump are proven job creators and are prepared to bring jobs back to the american people! \"@jnelson52722: @realdonaldtrump @susiesentinel kaine looks like an evil crook out of the batman movies\" \"@elisac006: @nycmia @realdonaldtrump i agree. kaine looks like a fool!!\" rt @teamtrump: .@timkaine has a pay-to-play problem just like crooked @hillaryclinton #vpdebates #bigleaguetruth   \"@bigdog_joey: @realdonaldtrump @timkaine is so angry. our @mike_pence looks great. kaine cant defend all those lies #makeamericagreatagain rt @mike_pence: theres one clear choice in this election to create jobs and grow the american economy. #vpdebate   rt @joshrogin: pence is right. clinton &amp; obama tried to negotiate an iraq troop extension but failed. bush admin always anticipated such an_ \"@susiesentinel: #pence is so much more likeable than kaine #cbsnews @realdonaldtrump\" \"@lainey34210: @realdonaldtrump great opening pence_\" \"@roadkingl: @mike_pence wow, kaine couldnt go 12 seconds without a lie. marines and military are scared of the liar running. #bengazi\" .@megynkelly- i am in nevada. sorry to inform you kellyanne is in the audience. better luck next time. both are looking good! now we begin! here we go - enjoy! i will be live-tweeting the v.p. debate. very exciting! make america great again! wow, @cnn is so negative. their panel is a joke, biased and very dumb. im turning to @foxnews where we get a fair shake! mike will do great wow, did you just hear bill clintons statement on how bad obamacare is. hillary not happy. as i have been saying, repeal and replace! join the movement!\\n    thank you arizona! this is a movement like nobody has ever seen before. together, we are going to make america safe_   my childcare plan makes a difference for working families - more money, more freedom. #americafirst means_   i will be watching the great governor @mike_pence and live tweeting the vp debate tonight starting at 8:30pm est! enjoy! join me in reno, nevada tomorrow at 3:30pm! #americafirst #maga\\ntickets:   join me in reno, nevada on wednesday at 3:30pm at the reno-sparks convention center! #maga\\ntickets:_   thank you colorado! #maga\\n \\n    we must bring the truth directly to hard-working americans who want to take our country back. #bigleaguetruth_   thank you pueblo, colorado!\\n#trumprally #americafirst\\n    join me in henderson, nevada on wednesday at 11:30am! #maga\\ntickets:   just announced that iraq (u.s.) is preparing for battle to reclaim mosul. why do they have to announce this? makes mission much harder! melania and i extend our warmest greetings to those observing rosh hashanah here in the united states, in israel, and around the world. bernie should pull his endorsement of crooked hillary after she decieved him and then attacked him and his supporters. \"@trumplican2016: .@realdonaldtrump  there will be massive turnout for you,  mr. trump - these polls dont register the pulse of the people! i have created tens of thousands of jobs and will bring back great american prosperity. hillary has only created jobs at the fbi and doj! i know our complex tax laws better than anyone who has ever run for president and am the only one who can fix them. #failing@nytimes heading to pennsylvania for a big rally tonight. we will make america great again! wow, just saw the really bad @cnn ratings. people dont want to watch bad product that only builds up crooked hillary. the so-called commission on presidential debates admitted to us that the djt audio &amp; sound level was very bad. so why didnt they fix it? i won the debate if you decide without watching the totally one-sided \"spin\" that followed. this despite the really bad microphone. crooked h is nasty to sanders supporters behind closed doors. owned by wall st and politicians, hrc is not with you.   i believe in #americafirst and that means family first! my childcare plan reflects the needs of modern working-clas_   thank you novi, michigan! get out and vote #trumppence16 on 11/8. together, we will make america great again!_   thank you for your support - on my way now! see you soon. #trumptrain   join me in pueblo, colorado on monday afternoon at 3pm! #trumprally\\n  for those few people knocking me for tweeting at three oclock in the morning, at least you know i will be there, awake, to answer the call! why isnt hillary 50 points ahead? maybe its the email scandal, policies that spread isis, or calling millions of_   the people are really smart in cancelling subscriptions to the dallas &amp; arizona papers &amp; now usa today will lose readers! the people get it! remember, dont believe \"sources said\" by the very dishonest media. if they dont name the sources, the sources dont exist. did crooked hillary help disgusting (check out sex tape and past) alicia m become a u.s. citizen so she could use her in the debate? using alicia m in the debate as a paragon of virtue just shows that crooked hillary suffers from bad judgement! hillary was set up by a con. wow, crooked hillary was duped and used by my worst miss u. hillary floated her as an \"angel\" without checking her past, which is terrible! anytime you see a story about me or my campaign saying \"sources said,\" do not believe it. there are no sources, they are just made up lies! wow, did you see how badly @cnn (clinton news network) is doing in the ratings. with people like @donlemon, who could expect any more? while hillary profits off the rigged system, i am fighting for you! remember the simple phrase: #followthemoney_   thank you for joining me this afternoon, new hampshire! will be back soon. #followthemoney\\nspeech transcript:_   join me in manheim, pennsylvania on saturday at 7pm! #trumprally\\ntickets:     my condolences to those involved in todays horrible accident in nj and my deepest gratitude to all of the amazing first responders. will be in novi, michigan this friday at 5:00pm. join the movement! tickets available at:     join me in bedford, new hampshire- tomorrow at 3:00pm. cant wait to see everyone! #americafirst #maga_   thank you waukesha, wisconsin!\\nfull transcript of my speech, #followthemoney:\\n    joining @oreillyfactor from waukesha, wisconsin - now, live! enjoy! join me live in waukesha, wisconsin for an 8pme rally! #americafirst #maga\\n  thank you council bluffs, iowa! will be back soon. remember- everything you need to know about hillary -- just_   rt @teamtrump: \"she put the office of sec of state up for sale. if she ever got the chance, shed put the oval office up for sale too.\" #fo_ an honor to meet with the polish american congress in chicago this morning! #imwithyou\\nvideo:_   melania and i extend our deepest condolences to the family of shimon peres...  join me in council bluffs, iowa- today at 3pm! #makeamericagreatagain\\ntickets:   every on-line poll, time magazine, drudge etc., has me winning the debate. thank you to fox &amp; friends for so reporting! my supporters are the best! $18 million from hard-working people who know what we can be again! shatter the record:   unbelievable evening in melbourne, florida w/ 15,000 supporters- and an additional 12,000 who could not get in. tha_   join me for a 3pm rally - tomorrow at the mid-america center in council bluffs, iowa! tickets:_   once again, we will have a government of, by and for the people. join the movement today!     rt @gop: on national #voterregistrationday, make sure youre registered to vote so we can #makeamericagreatagain   ht_ hillary clintons campaign continues to make false claims about foundation disclosure:\\n  cnbc, time magazine online polls say donald trump won the first presidential debate via @washtimes. #maga\\n  great afternoon in little havana with hispanic community leaders. thank you for your support! #imwithyou   in the last 24 hrs. we have raised over $13m from online donations and national call day, and were still going! thank you america! #maga well, now theyre saying that i not only won the nbc presidential forum, but last night the big debate. nice! thank you for your endorsement, @governorsununu. #maga\\n  such a great honor. final debate polls are in - and the movement wins!\\n#americafirst #maga #imwithyou_   u.s. murders increased 10.8% in 2015 via @wsj:   thank you! #trumpwon #maga\\n  hillarys been failing for 30 years in not getting the job done - it will never change. true blue-collar billionaire donald trump shows hillary clinton is out of touch   the #1 trend on twitter right now is #trumpwon - thank you! i won every poll from last nights presidential debate - except for the little watched @cnn poll. how trump won over a bar full of undecideds and democrats\\n  i really enjoyed the debate last night.crooked hillary says she is going to do so many things.why hasnt she done them in her last 30 years? great debate poll numbers - i will be on @foxandfriends at 7:00 to discuss. enjoy! thank you! four new #debatenight polls with the movement winning. together, we will make america safe &amp; great again_   .@drudge_reports first presidential debate poll:\\ntrump: 80%\\nclinton: 20%\\njoin the movement today &amp; lets #maga!_   thank you! cnbc #debatenight poll with over 400,000 votes.\\ntrump 61%\\nclinton 39%\\n#americafirst #imwithyou_   time #debatenight poll - over 800,000 votes. thank you!\\n#americafirst #maga   .@newtgingrich just said \"a historic victory for trump.\" nice! wow, did great in the debate polls (except for @cnn - which i dont watch). thank you! thank you governor @terrybranstad!\\n#americafirst #debates2016   thank you governor @mike_pence!\\nlets make america safe and great again with the american people.\\n#americafirst_   thank you senator @tedcruz!\\n#debates2016 #maga   .@hillaryclintons nuclear agreement paved the way for the $400 million ransom payment #debatenight\\n  nothing on emails. nothing on the corrupt clinton foundation. and nothing on #benghazi. #debates2016 #debatenight .@hillaryclinton - obama #isis strategy has allowed it to expand to become a global threat #debatenight   rt @teamtrump: .@realdonaldtrump calling out @hillaryclintons support for nafta = most searched moment during tonights debate. #debates20_ russia has more warheads than ever, n korea is testing nukes, and iran got a sweetheart deal to keep theirs. thanks, @hillaryclinton. hillary clinton failed all over the world.\\nlibya\\nsyria\\niran\\niraq\\nasia pivot\\nrussian reset\\nbenghazi_   rt @teamtrump: 100% true --&gt; @realdonaldtrump is right - @hillaryclinton did call tpp the gold standard #debates2016\\n  hillary clinton is the only candidate on stage who voted for the iraq war. #debates2016 #maga   .@hillaryclintons 2008 campaign and supporters trafficked in rumors about obamas heritage #debatenight\\n  rt @teamtrump: hillarys policies have made america less safe, thats why 200+ general and military leaders have endorsed @realdonaldtrump!_ rt @danscavino: jesse jackson on @realdonaldtrump - when he donated space for the rainbow/push coalition.\\n#debatenight   i will stand with police and protect all americans! #debates2016 #maga   rt @teamtrump: when @realdonaldtrump is potus, families are going to be safe and secure. law and order will be restored! #maga #debates #de_ rt @teamtrump: watch: @realdonaldtrump on the stakes in this election #debates2016   this is the simple fact about @hillaryclinton: she is a typical politician - all talk, no action. #debates2016 hillarys bad tax habit!   a clinton economy = more taxes and more spending! #debatenight   .@hillaryclinton has been part of the rigged dc system for 30 years? why would we take policy advice from her? #debates2016 instead of driving jobs and wealth away, america will become the worlds great magnet for innovation and job creati_   .@hillaryclinton channels john kerry on trade: she was for bad trade deals before she was against them. #tpp #debates2016 .@hillaryclinton and obama policies increased debt by $9trillion over the last 8 years rt @teamtrump: a @realdonaldtrump administration will bring jobs back! #debates2016   why isnt hillary clinton 50 points ahead?\\n#debatenight   rt @danscavino: join @realdonaldtrump on his official social media platforms during tonights debate  as @teamtrump manages rapid response_ my team of deplorables will be managing my twitter account for this evenings debate. tune in!\\n#debatenight #trumppence16 rt @kellyannepolls: #polls showing @realdonaldtrump surging, @hillaryclinton #slipping, have her camp on defense/lowering expectations, goi_ new national bloomberg poll just released - thank you! join the movement:  \\n#trumptrain_   really sad news: the great arnold palmer, the \"king,\" has died. there was no-one like him - a true champion! he will be truly missed. five people killed in washington state by a middle eastern immigrant. many people died this weekend in ohio from drug overdoses. n.c. riots! readout of my meeting with israeli prime minister benjamin netanyahu:\\n    looking forward to my meeting with benjamin netanyahu in trump tower at 10:00 a.m. bernie sanders gave hillary the dem nomination when he gave up on the e-mails. that issue has only gotten bigger! many on the team and staff of bernie sanders have been treated badly by the hillary clinton campaign - and they like trump on trade, a lot! thank you roanoke, virginia - this a movement - join us today!\\nsign up:  \\n#americafirst_   if dopey mark cuban of failed benefactor fame wants to sit in the front row, perhaps i will put gennifer flowers right alongside of him! will be back in virginia tonight- for a 6pm rally at the berglund center in roanoke. join me! tickets:_   \"@kellyannepolls: trump is headed for a win, says professor who has predicted 30 years of presidential outcomes    \" the @sentedcruz endorsement was a wonderful surprise. i greatly appreciate his support! we will have a tremendous victory on november 8th. today is the day! knock on doors and make calls with us on national day of action! #trumptrain #maga_   interview on @seanhannity now! enjoy. crooked hillarys bad judgement forced her to announce that she would go to charlotte on saturday to grandstand. dem pols said no way, dumb! join me in roanoke, virginia tomorrow at the berglund center- coliseum  6pm! tickets available at:_   how trump would stimulate the u.s. economy\\n  hillary clinton just lost every republican she ever had, including never trump, all farmers &amp; sm. biz, by saying shell tax estates at 65%. tomorrows the day! knock on doors and make calls with us on national day of action! #trumptrain #maga_   rt @dcexaminer: exclusive: how donald trumps 30 million followers are crashing the internet     spoke with governor @patmccrorync of north carolina today. he is doing a tremendous job under tough circumstances. this is more than a campaign- it is a movement. #makeamericagreatagain\\nsign up today &amp; we will win!   join me in roanoke, virginia on saturday evening at 6pm! #maga\\n  will be on @foxandfriends now. i will be interviewed from cleveland, ohio, on @seanhannity - tonight at 10:00 p.m. enjoy! \"@thallensboucher: @diamondandsilk @realdonaldtrump @seanhannity i love those beautiful gals.\" d + s = two amazing women! .@youngdems4trump  thank you! great new polls! thank you nevada, north carolina &amp; ohio. join the movement today &amp; lets #maga!_   thank you toledo, ohio! it is so important for you to get out and vote on november 8, 2016! lets make america safe_   rt @gma: watch: @ivankatrump on \"women who work;\" empowering campaign celebrates modern women.    hopefully the violence &amp; unrest in charlotte will come to an immediate end. to those injured, get well soon. we need unity &amp; leadership. the situations in tulsa and charlotte are tragic. we must come together to make america safe again. it is a movement - not a campaign. leaving the past behind, changing our future. together, we will make america saf_   thank you kenansville, north carolina! remember- on november 8th, that special interest gravy train is coming to a_   thank you high point, nc! i will fight for every neglected part of this nation &amp; i will fight to bring us together_   hillary clinton is taking the day off again, she needs the rest. sleep well hillary - see you at the debate! heading to north carolina for two big rallies. will be there soon. we will bring jobs back where they belong! do people notice hillary is copying my airplane rallies - she puts the plane behind her like i have been doing from the beginning. thank you nevada! #americafirst\\n#makeamericagreatagain\\n    thank you georgia! #americafirst\\n#makeamericagreatagain\\n    crooked hillary has been fighting isis, or whatever she has been doing, for years. now she has new ideas. it is time for change. amazing rally in florida - this is a movement! join us today at     together, we will make america safe and great again! #imwithyou #americafirst   i will be interviewed on the @oreillyfactor - tonight from florida, now. enjoy! philly fop chief on presidential endorsement: clinton blew the police off   hillary clintons weakness while she was secretary of state, has emboldened terrorists all over the world..cont:   once again someone we were told is ok turns out to be a terrorist who wants to destroy our country &amp; its people- how did he get thru system? great job once again by law enforcement! we are proud of them and should embrace them - without them, we dont have a country! \"@tarukmatuk: @cnn @foxnews @realdonaldtrump @rogerrice10 refugees from syria over 10k plus more coming. lots young males, poorly vetted. \"@angpiazza: @foxandfriends  @realdonaldtrump hes the only candidate that will keep us safe!\" will be on @foxandfriends at 7:02 a.m.  enjoy. terrible attacks in ny, nj and mn this weekend. thinking of victims, their families and all americans! we need to be strong! saturdays attacks show that failed obama/hillary clinton polices wont keep us safe! i will make america safe again! under the leadership of obama &amp; clinton, americans have experienced more attacks at home than victories abroad. time to change the playbook! happy birthday - to the united states air force!!   rt @kellyannepolls: this updates @reuters/ipsos electoral map shows more than nearly anything how much has changed in just a month. https:/_ rt @kellyannepolls: #polls, continued. hillary averaging 40% in three states pres. obama won.   rt @kellyannepolls: more media #polls showing @realdonaldtrump ahead in states pres obama won twice.   i would like to express my warmest regards, best wishes and condolences to all of the families and victims of the horrible bombing in nyc. never met but never liked dopey robert gates. look at the mess the u.s. is in. always speaks badly of his many bosses, including obama. heading to colorado for a big rally. massive crowd, great people! will be there soon - the polls are looking good. my lawyers want to sue the failing @nytimes so badly for irresponsible intent. i said no (for now), but they are watching. really disgusting the failing @nytimes has gone nuts that crooked hillary is doing so badly. they are willing to say anything, has become a laughingstock rag! crazy maureen dowd, the wacky columnist for the failing @nytimes, pretends she knows me well--wrong! wacky @nytimesdowd, who hardly knows me, makes up things that i never said for her boring interviews and column. a neurotic dope! .@cnn just doesnt get it, and thats why their ratings are so low - and getting worse. boring anti-trump panelists, mostly losers in life! i never met former defense secretary robert gates. he knows nothing about me. but look at the results under his guidance - a total disaster! crooked hillary wants to take your 2nd amendment rights away. will guns be taken from her heavily armed secret service detail? maybe not! my thoughts and prayers go out to the @phillypolice &amp; @penn police officers- in philadelphia.   \"donald trumps birther event is the greatest trick hes ever pulled\"\\n  a very interesting take from @katiepavlich:   just arrived in texas - have been informed two @fortworthpd officers have been shot. my thoughts and prayers are with them. just leaving miami for houston, oklahoma and colorado. miami crowd was fantastic! great parade in the villages- i love you all. we will #maga. thank you for the incredible support-i will not forget!   i am truly honored and grateful for receiving so much support from our american heroes...    i am now going to the brand new trump international, hotel d.c. for a major statement. thank you for a great evening - laconia, new hampshire -- will be back soon! #americafirst\\n    \"@ak_tweet: #thedonalds hair gets the #jimmyfallon treatment on #thetonightshow #trumppence16  \"  so true! \"@jimmyfallon: tonight: @realdonaldtrump, @normmacdonald, a performance by kiiara,and your funniest #myteacherisweird tweets. #fallontonight instead of driving jobs and wealth away, america will become the worlds great magnet for innovation &amp; job creation!   will be joining @jimmyfallon on @fallontonight at 11:35pme tonight. enjoy! rt @erictrump: what a scary statistic! americans are working harder and making less! we need competent leadership!   i will be interviewed by @jessebwatters on @oreillyfactor tonight at 8pm. enjoy! full transcript of economic plan- delivered to the economic club of new york. #maga     thank you @jerryjrfalwell!   thank you to all of our law enforcement officers - across america! #lesm #maga\\n    thank you for having me! i enjoyed the tour and spending time with everyone. see you soon. #maga   will be on @foxandfriends at 7:00 a.m. enjoy! \"@ghfanlovessonny: @realdonaldtrump you have my vote in pennsylvania. trump 2016\" thank you! i was never a fan of colin powell after his weak understanding of weapons of mass destruction in iraq = disaster. we can do much better! i will be interviewed on @foxandfriends tomorrow at 7am. enjoy! great poll out of nevada- thank you! see you soon. #maga #americafirst\\n    great evening in canton, ohio-thank you! we are going to make america great again! join us:\\n    honor to have been interviewed by the very wonderful @bishopwtjackson in detroit last week - tune in at 9pme. enjoy!   thank you ohio! just landed in canton for a rally at the civic center. join me at 7pm:     thank you florida- cant wait to see you friday in miami! join me:\\n    thank you @atfd17! #imwithyou\\nvideo:   great poll florida - thank you!\\n#imwithyou #americafirst   thank you ohio - see you tonight!   russia took crimea during the so-called obama years. who wouldnt know this and why does obama get a free pass? why isnt president obama working instead of campaigning for hillary clinton? thank you rep. @cynthialummis!\\n    thank you rep. @marshablackburn!\\n    thank you @repreneeellmers!\\n    rt @loudobbs: trump outlines new child-care policy proposals via the @foxnews app @realdonaldtrump seems a candidate of destiny   child care reforms that will make america great again!\\ntranscript:  \\n    rt @ivankatrump: ivanka penned an op-ed that ran in the @wsj this afternoon, read it here.   @realdonaldtrump https:/_ #imwithyou #americafirst   rt @ivankatrump: ivanka is joining @realdonaldtrump to outline an innovative new child care policy to support american families. tune in to_ thank you clive, iowa!\\n  join us today! together, we will\\n#makeamericagreatagain!\\n    heading to iowa- join me today at noon! #makeamericagreatagain\\ntickets:     join me in clive, iowa tomorrow at noon! #americafirst #maga\\ntickets:     \"@brimyers813: saw ur speech on twitter. u give me hope and optimism. i feel as though i am in the room with u. i pray 4 ur/our success.\" just got back from asheville,  north carolina, where we had a massive rally. the spirit of the crowd was unbelievable. thank you!  #maga stopped by @trumpdc to thank all of the tremendous men &amp; women for their hard work!   will be on @cnbc at @7:22. enjoy! i will be interviewed on @foxandfriends at 7:00 a.m. #neverforget\\n  the seriously failing @nytimes, despite so much winning and poll numbers that will soon put me in first place, only writes dishonest hits! hillary clinton just had her 47% moment. what a terrible thing she said about so many great americans! rt @barackobama: rt if you agree: we need a president who is fighting for all americans, not one who writes off nearly half the country. while hillary said horrible things about my supporters, and while many of her supporters will never vote for me, i still respect them all! really sad that republicans would allow themselves to be used in a clinton ad. lindsey graham, romney, flake, sass. supreme court, remember! wow, hillary clinton was so insulting to my supporters, millions of amazing, hard working people. i think it will cost her at the polls! will be in missouri today with melania for the funeral of a wonderful and truly respected woman, phyllis s! \"@stvzbnk: just watched @tonyschwartz. obviously tony is a total whack job @realdonaldtrump\" just returned from pensacola, florida, where the crowd was incredible. i havnt seen @tonyschwartz in many years, he hardly knows me. never liked his style. super lib, crooked h supporter. irrelevant dope! dummy writer @tonyschwartz, who wanted to do a second book with me for years (i said no), is now a hostile basket case who feels jilted! thank you florida - we are going to make america great again! join us:  \\n#americafirst   will be delivering a major speech tonight - live on @oreillyfactor at 8:10pm from pensacola, florida. thank you ohio. together, we will make america great again!\\n    great honor to be endorsed by popular &amp; successful @gov_gilmore of va. a state that i very much want to win-thx jim!   make america great again!\\n#americafirst #imwithyou   henry mcmaster, lt. governor of south carolina who endorsed me, beat failed @cnn announcer bakari sellers, so badly. funny! rt @erictrump: join @teamtrump on saturday for national day of action as we work to #makeamericagreatagain!   https:/_ jeff zucker failed @nbc and he is now failing @cnn. .@cnn is unwatchable. their news on me is fiction. they\\nare a disgrace to the broadcasting industry and an arm of the clinton campaign. the documentary of me that @cnn just aired is a total waste of time. i dont even know many of the people who spoke about me. a joke! final poll results from nbc on last nights commander-in-chief forum. thank you! #imwithyou #maga   it wasnt matt lauer that hurt hillary last night. it was her very dumb answer about emails &amp; the veteran who said she should be in jail. more poll results from last nights commander-in-chief forum.\\n#americafirst #trumptrain   last nights results - in poll taken by nbc. #americafirst #imwithyou   with luis, mexico and the united states would have made wonderful deals together - where both mexico and the us would have benefitted. mexico has lost a brilliant finance minister and wonderful man who i know is highly respected by president pea nieto. hillary clinton answered email questions differently last night than she has in the past. she is totally confused. unfit to serve as #potus. hillary just gave a disastrous news conference on the tarmac to make up for poor performance last night. shes being decimated by the media! rt @danscavino: last nights winner was clear &amp; it will be proven time &amp; time again - lets #maga!! lets win!! #trumptrain   \"a rough night for hillary clinton\"  abc news. wow, reviews are in - thank you! coming up @genflynn @newtgingrich on @foxandfriends thank you to @foxandfriends for the nice reviews of last night. thank you america - great #commanderinchiefforum polls!   thank you to our fantastic veterans. the reviews and polls from almost everyone of my commander-in-chief presentation were great. nice! thank you peter - if elected, i will think big for our country &amp; never let the american people down! #americafirst   wow - thank you pensacola, fl. see you friday at 7pm -- join me!\\n    #americafirst!   donald trump leads hillary clinton by 19 points among military, veteran voters: poll #americafirst #maga\\n  \"@adhd_fa:kudos to @parisdennard for standing up to cnns attempt to bully you and shout you down for defending @realdonaldtrump #media bias i will be interviewed on @oreillyfactor tonight at 11pme @foxnews. enjoy! thank you north carolina- get out &amp; #votetrump on 11/8/2016!\\n#makeamericagreatagain   great meeting with military spouses in virginia- joined by @ivankatrump, @laraleatrump, @genflynn &amp; @mayorrgiuliani.   thank you to all of our amazing military families, service members, and veterans. #imwithyou   join me in pensacola, florida this friday at 7pm! #votetrump\\n    thank you! #votetrump #imwithyou   mainstream media never covered hillarys massive hacking\\nor coughing attack, yet it is #1 trending. whats up? \"@ler: message for undecided voters: please wake up and vote donaldtrump now! trump/pence very important save our america before too late!\" thank you! #americafirst   as a tribute to the late, great phyllis schlafly, i hope everybody can go out and get her latest book, the conservative case for trump. china wouldnt provide a red carpet stairway from air force one and then philippines president calls obama \"the son of a whore.\" terrible! the truly great phyllis schlafly, who honored me with her strong endorsement for president, has passed away at 92. she was very special! thank you ohio! #americafirst   heading to youngstown, ohio now- some great polls. #americafirst   thank you american legion post 610- for hosting @mike_pence &amp; i for a roundtable with labor leaders. #laborday #maga   #laborday #americafirst\\nvideo:     can you believe that the chinese would not give obama the proper stairway to get off his plane - fight on tarmac!   president obama &amp; putin fail to reach deal on syria - so what else is new? obama is not a natural deal maker. only makes bad deals! \"@osprey675: @miami4trump i followed you because you are a patriot &amp; support @realdonaldtrump, as do i. #maga by sticking together. \"@tweak626: im at a biker rally in perry, kansas...and everyone is a @realdonaldtrump fan. love it.\" \"@ronnieclemmons: @chriscjackson @takouis @realdonaldtrump  trump now leads her by 2 - get real, she will lose big\" \"@lblackvelvet: @realdonaldtrump we need to show americans that hillary will kill our country !! vote for trump !!\" \"@chernuna: @realdonaldtrump it defies belief the web of lies hillary is spinning! one excuse after another. then its this, then its that. lyin hillary clinton told the fbi that she did not know the \"c\" markings on documents stood for classified. how can this be happening? to the african-american community: the democrats have failed you for fifty years, high crime, poor schools, no jobs. i will fix it, vote \"t\" the polls are close so crooked hillary is getting out of bed and will campaign tomorrow.why did she hammer 13 devices and acid-wash e-mails? the great state of arizona, where i just had a massive rally (amazing people), has a very weak and ineffective senator, jeff flake. sad! the republican party needs strong and committed leaders, not weak people such as @jeffflake, if it is going to stop illegal immigration. rt @danscavino: doesnt fit the msm narrative - so they wont share what @realdonaldtrump did for jesse jackson in 1999 - so i will! https:/_ \"@annebellar: @realdonaldtrump @cnn cnn is so biased. never ever watch them. trump 2016!!\" crooked hillarys v.p. pick said this morning that i was not aware that russia took over crimea. a total lie - and taken over during o term! wow, the failing @nytimes has not reported properly on crookeds fbi release. they are at the back of the pack - no longer a credible source .@cnn is so disgusting in their bias, but they are having a hard time promoting crooked hillary in light of the new e-mail scandals. great visit to detroit church, fantastic reception, and all @cnn talks about is a small protest outside. inside a large and wonderful crowd! i am returning to the pensacola bay center in florida- friday, 9/9/16 at 7pm. join me!     thank you great faith ministries international, bishop wayne t. jackson, and detroit!\\n  #imwithyou   #americafirst #imwithyou   great new poll iowa - thank you!\\n#makeamericagreatagain #imwithyou   i visited our trump tower campaign headquarters last night, after returning from ohio and arizona, and it was packed with great pros - win! people will be very surprised by our ground game on nov. 8. we have an army of volunteers and people with great spirit! they want to #maga! just heard that crazy and very dumb @morningmika had a mental breakdown while talking about me on the low ratings @morning_joe. joe a mess! i will be interviewed by @ericbolling tonight at 8pm on the @oreillyfactor. enjoy! i am promising you a new legacy for america. were going to create a new american future. thank you ohio! #imwithyou   thank you for having me this morning @americanlegion. i enjoyed my time with everyone! #alconvention2016   poll numbers way up - making big progress! thank you to @foxandfriends for the great review of the speech on immigration last night. thank you also to the great people of arizona! mexico will pay for the wall! under a trump administration, its called #americafirst! #imwithyou\\n  hillary clinton doesnt have the strength or the stamina to make america great again! #americafirst\\n  there will be no amnesty!\\n#makeamericagreatagain #imwithyou\\n  mexico will pay for the wall - 100%!\\n#makeamericagreatagain #imwithyou\\n  rt @loudobbs: we are watching a leader who for the first time in three presidencies will put america and americans first! @realdonaldtrump_ rt @anncoulter: i hear churchill had a nice turn of phrase, but trumps immigration speech is the most magnificent speech ever given. just arrived in arizona! #imwithyou\\n  great trip to mexico today  - wonderful leadership and high quality people! look forward to our next meeting. hillary clinton didnt go to louisiana, and now she didnt go to mexico. she doesnt have the drive or stamina to make america great again! former president vicente fox, who is railing against my visit to mexico today, also invited me when he apologized for using the \"f bomb.\" thank you washington! together, we will make america safe and great again! #imwithyou #americafirst   i have accepted the invitation of president enrique pena nieto, of mexico, and look very much forward to meeting him tomorrow. rt @rsbnetwork: we are already live in everett, wa for the trump rally. come join us- our cameras tonight! #trumpineverett\\n\\n  rt @drudge_report: reuters poll:  clinton, trump all tied up...   thank you north carolina! #maga   thank you america! #maga\\n    \"@meequalsfree: looking forward to seeing you again! everett to be a packed house! @realdonaldtrump  @mike_pence\" from day one i said that i was going to build a great wall on the southern border, and much more. stop illegal immigration. watch wednesday! join me this thursday in wilmington, ohio at noon! #imwithyou\\ntickets:     join me this wednesday in phoenix, arizona at 6pm! #imwithyou\\ntickets:     #makeamericagreatagain #imwithyou   we will repeal and replace the horrible disaster known as #obamacare!   #crookedhillary   now that african-americans are seeing what a bad job hillary type policy and management has done to the inner-cities, they want trump! crooked hillarys brainpower is highly overrated.probably why her decision making is so bad or, as stated by bernie s, she has bad judgement does anyone know that crooked hillary, who tried so hard, was unable to pass the bar exams in washington d.c. she was forced to go elsewhere \"@pmnorlando: @realdonaldtrump i know of no one voting for crooked hillary! her rallies are held in (blank)  &amp; she still has room. \"@rhondar: thank-you clarence henderson for telling @cnn you know racism &amp; its not donaldtrump   via @breitbartnews\" \"@patrici: crowd at trump rally in akron, ohio is a sea of women, minorities, independents, dems   via @gatewaypundit inner-city crime is reaching record levels. african-americans will vote for trump because they know i will stop the slaughter going on! look how bad it is getting! how much more crime, how many more shootings, will it take for african-americans and latinos to vote trump=safe! i will be making a major speech on illegal immigration on wednesday in the great state of arizona. big crowds, looking for a larger venue. i think that both candidates, crooked hillary and myself, should release detailed medical records. i have no problem in doing so! hillary? today is the 53rd anniversary of the march on washington - today we honor the enduring fight for justice, equality and opportunity. rt @foxnews: poll: @realdonaldtrump vs. @hillaryclinton among white evangelicals.   thank you arizona! #votetrump   join me tuesday in everett, washington at the xfinity arena! tickets:     \"@lindaharden: @realdonaldtrump america loves trump and @mike_pence -- praying for you every day. stay strong. #trumppence2016 #neverhillary national debt\\njanuary 2009 = $10.6 trillion\\naugust 2016 = $19.4 trillion   it was an honor to have the amazing root family join me in iowa. i have been so inspired by their courage &amp; bravery.   thank you iowa! #imwithyou   just landed in iowa to attend a great event in honor of wonderful senator @joniernst. look forward to being with all of my friends. my condolences to dwyane wade and his family, on the loss of nykea aldridge. they are in my thoughts and prayers. dwyane wades cousin was just shot and killed walking her baby in chicago. just what i have been saying. african-americans will vote trump! \"@goldjazz559: #blackmenforbernie leader: #hillary2016 no regard for black race   via @dailycaller #blacksfortrump \"@diamondandsilk: crooked hillary getting desperate. on tv bashing trump. @cnn, she forgot how she said a kkk member was her mentor. heroin overdoses are taking over our children and others in the midwest. coming in from our southern border. we need strong border &amp; wall! new polls - join the movement today.\\n  #imwithyou   join us via our new #americafirst app! #trumppence16     will be in phoenix, arizona on wednesday. changing venue to much larger one. demand is unreal. polls looking great! #imwithyou thank you @teamtrump florida. keep me updated, and lets get those 100,000 registered voters!\\n#makeamericagreatagain    i will be interviewed by @kimguilfoyle\\nat 7pm on @foxnews. #enjoy! army training slide lists hillary clinton as insider threat:   meet the trumpocrats: lifelong democrats breaking w/ party over hillary to support donald trump for president:   \"hillary clinton deleted emails using program intended to prevent recovery\" #crookedhillary   rt @drudge: watched clinton cash last night. scariest movie since the invitation!  youve been warned      how quickly people forget that crooked hillary called african-american youth \"super predators\" - has she apologized? i am very proud to have brought the subject of illegal immigration back into the discussion. such a big problem for our country-i will solve wonderful @pastormarkburns was attacked viciously and unfairly on @msnbc by crazy @morningmika on low ratings @morning_joe. apologize! what do african-americans and hispanics have to lose by going with me. look at the poverty, crime and educational statistics. i will fix it! crooked hillary will never be able to solve the problems of poverty, education and safety within the african-american &amp; hispanic communities the clintons are the real predators...\\n  \"@lewenskimo: your opponent has run out of ideas, now resorts to personal attacks on you. every amercan knows, you represent hope!!\" \"hillary clinton needs to address the racist undertones of her 2008 campaign.\" #flashbackfriday   \"@donaldjtrumpjr: company gouging price of epipens is a clinton foundation donor and partner   via dailycaller\" \"@foxnation: flashback: hillary clinton praised former kkk member robert byrd as friend and mentor:  \" clinton corruption and her sabotage of the inner cities.\\nfull speech transcript:   hillary clinton only knows how to make a speech when it is a hit on me. no policy, and always very short (stamina). media gives her a pass! hrc is using the oldest play in the dem playbook- when their policies fail, they are left w/this one tired argument!\\n  hillary clinton is using race-baiting to try to get african-american voters- but they know she is all talk and no action! hillary clintons short speech is pandering to the worst instincts in our society. she should be ashamed of herself! just watched recap of #crookedhillarys speech. very short and lies. she is the only one fear-mongering! so many in the african-american community are doing so badly, poverty and crime way up, employment and jobs way down: i will fix it, promise poll numbers are starting to look very good. leading in florida @cnn arizona and big jump in utah. all numbers rising, national way up. wow! \"@trump_videos: .@nigel_farage of the #brexit fame - we can do this! we can #maga with @realdonaldtrump  \" thoughts and prayers to the great people of indiana. you will prevail! great governor @mike_pence is in indiana to help lead the relief efforts after tornadoes struck. true leadership. will be on #hannity @ 10pe @foxnews- discussing various subjects including immigration-if elected, we will #buildthewall &amp; enforce our laws! thank you for your support!\\n#americafirst #imwithyou   a great afternoon in tampa, florida. thank you! #trumppence16   new national poll released. join the movement &amp; together we will #makeamericagreatagain!\\n    great new poll florida - thank you! #makeamericagreatagain   i will not let the families of the remembrance project down!\\n#makeamericasafeagain\\n \\n  my thoughts and prayers are with the victims and families of those affected by two powerful earthquakes in italy and myanmar. thank you travis county, texas!\\n#makeamericagreatagain   will be participating in a town hall tonight on @seanhannity at 10pme from austin, texas. enjoy!   in austin, texas with some of our amazing border patrol agents. i will not let them down!     join me in tampa, florida- tomorrow at 1pme! tickets:     president obama should have gone to louisiana days ago, instead of golfing. too little, too late! hillary clinton strongly stated  that there was \"absolutely no connection\" between her private work and that of the state department. lie! it is being reported by virtually everyone, and is a fact,  that the media pile on against me is the worst in american political history! i am now in texas doing a big fundraiser for the republican party and a @foxnews special on the border and with victims of border crime! the @washingtonpost quickly put together a hit job book on me- comprised of copies of some of their inaccurate stories. dont buy, boring! .@anncoulters new book, in trump we trust, comes out tomorrow. people are saying its terrific - knowing ann i am sure it is! just leaving akron, ohio, after a packed rally. amazing people! going now to texas. great meeting with active &amp; retired law enforcement officers- at the fraternal order of police lodge in akron, ohio.   statement on clinton foundation:\\n  will be interviewed on @foxandfriends at 8:30 a.m. eastern. enjoy! some day, when things calm down, ill tell the real story of @joenbc and his very insecure long-time girlfriend, @morningmika. two clowns! tried watching low-rated @morning_joe this morning,  unwatchable! @morningmika is off the wall, a neurotic and not very bright mess! \"@realbill2016: @realdonaldtrump @brainykid2010 @shl trump leading la times poll  \" \"@brainykid2010: @shl @realdonaldtrump the ad was actually very good!\" \"@55lidsville:  #teamtrump @kellyannepolls you need to show the crowds at the rallies use periscope! show hcs 139 yt viewers vs dt 38k\" \"@sinabunz_tm: @realdonaldtrump trump victory in november!  #maga #trumppence16\" \"@jimbos2002:  @morning_joe video: hillary referring to blacks as super predators that need to be brought to heel.  \" i heard that @morning_joe was very nice on friday but that little donny d, a big failure in tv (&amp; someone i helped), was nasty. irrelevant! crooked hillary is flooding the airwaves with false and misleading ads - all paid for by her bosses on wall street. media is protecting her! i have been drawing very big and enthusiastic crowds, but the media refuses to show or discuss them. something very big is happening! together, we are going to make america safe and great again!\\n  \"@eyecandytmgayle: @realdonaldtrump please oh please take the charlotte nc speech across the swing states .... sooo powerful\"  good! \"@j58golf: @realdonaldtrump been a great week. more of the same will get you in the white house!\" we will bring america together as one country again  united as americans in common purpose and common dreams. #maga will be back soon virginia. we are going to make america great again! #trumppence16   will be interviewed on @judgejeanine at 9:00 p.m. enjoy! just leaving virginia - really big crowd, great enthusiasm! thank you @jerryjrfalwell- will see you soon. #trumppence16\\n  \"@catonglass: 200,000 new followers for @realdonaldtrump. from 10,800,000 to 11,000,000, all in the last ten days or so! #maga #alwaystrump .@franklin_graham @billynungesser @samaritanspurse- so humbled by my time w/ you. you are in our thoughts &amp; prayers.   we are one nation. when one hurts, we all hurt. we must all work together-to lift each other up.\\n#standwithlouisiana   #whereshillary? sleeping!!!!! thank you michigan. this is a movement. we are going to make america safe and great again! #trumppence16   great job by @erictrump on interview with @billhemmer on @foxnews. #imwithyou #trumptrain thank you to everyone for all of the nice comments, by twitter, pundits and otherwise for my speech last night. the reporting at the failing @nytimes gets worse and worse by the day. fortunately, it is a dying newspaper. thank you to nc for last evenings great reception. the speech was a great success. heading now to louisiana &amp; another speech tonight in mi. we are one nation. when one state hurts, we all hurt. we must all work together - to lift each other up.   thank you charlotte, north carolina!\\n#makeamericagreatagain\\n  together, we will make america great again!   #crookedhillary #throwbackthursday   they will soon be calling me mr. brexit! i will be doing a town hall tonight at 10:00 p.m. on @seanhannity - @foxnews will be participating in a town hall event- hosted by @seanhannity tonight at 10pme on @foxnews. enjoy!   we are going to make this a government of the people once again!\\n#makeamericagreatagain #imwithyou\\n  we will repeal &amp; replace #obamacare, which has caused soaring double-digit premium increases. it is a disaster!   a vote for hillary clinton is a vote for another generation of poverty, high crime, &amp; lost opportunities. #imwithyou\\n  #makeamericasafeagain #imwithyou\\n  thank you governor @scottwalker &amp; @gop chairman @reince priebus.\\n#makeamericagreatagain #imwithyou\\n  join me in north carolina - tomorrow at 7:30pm! #imwithyou\\ntickets:   #lawandorder #imwithyou\\nvideo:     #lawandorder #imwithyou\\ntranscript:   will be on @seanhannity tonight at 10pme - delivering an important speech live from wisconsin. #makeamericagreatagain just as we won the cold war, in part, by exposing the evils of communism and the virtues of free markets....\\ncont:   this is my pledge to the american people:   its just a 2-point race, clinton 38%, trump 36%   another health insurer is pulling back due to persistent financial losses on #obamacare plans. only the beginning!   #americasmerkel   \"clinton refugee plan could bring in 620,000 refugees in first term at lifetime cost of over $400 billion.\"   #makeamericasafeagain\\n  certain republicans who have lost to me would rather save face by fighting me than see the u.s.supreme court get proper appointments. sad! \"stay on message\" is the chant. i always do - trade, jobs, military, vets, 2nd a, repeal ocare, borders, etc - but media misrepresents! i have always been the same person-remain true to self.the media wants me to change but it would be very dishonest to supporters to do so! it is not \"freedom of the press\" when newspapers and others are allowed to say and write whatever they want even if it is completely false! i am not only fighting crooked hillary, i am fighting the dishonest and corrupt media and her government protection process. people get it! crooked hillary clinton is being protected by the media. she is not a talented person or politician. the dishonest media refuses to expose! my rallies are not covered properly by the media. they never discuss the real message and never show crowd size or enthusiasm. if the disgusting and corrupt media covered me honestly and didnt put false meaning into the words i say, i would be beating hillary by 20% the failing @nytimes, which never spoke to me, keeps saying that i am saying to advisers that i will change. false, i am who i am-never said the failing @nytimes talks about anonymous sources and meetings that never happened. their reporting is fiction. the media protects hillary! \"@zulu_out: you are a man for the people because you know what it is like to be among the people #makeamericagreatagain #usa loves u\" thanks \"@pauladuvall2: were all enjoying you, as well, mr. t.! youve inspired hope and a positive spirit throughout america! god bless you!\" nice \"@need2knowu:  @willspeakout yes you are my hero i admire you for laying down your glorious luxurious life to get beat up for america!!!\" we now have confirmation as to one reason crooked h wanted to be sure that nobody saw her e-mails - pay-for-play. how can she run for pres. \"@willspeakout: thank you for all that you are doing for us! you campaign endlessly and have spent millions.we love you! #trumptrain\" thanks i am truly enjoying myself while running for president. the people of our country are amazing - great numbers on november 8th! the failing @nytimes has become a newspaper of fiction. their stories about me always quote non-existent unnamed sources. very dishonest! will be on @seanhannity tonight at 10pm, hosted by @govmikehuckabee. enjoy! thank you erie, pennsylvania! together we will #makeamericagreatagain!   we will repeal and replace disastrous #obamacare! #trumppence16   unbelievable support in florida last night - thank you! #maga   isis gained tremendous strength during hillary clintons term as secretary of state. when will the dishonest media report the facts! i love watching these poor, pathetic people (pundits) on television working so hard and so seriously to try and figure me out. they cant! a massive tax increase will be necessary to fund crooked hillary clintons agenda. what a terrible (and boring) rollout that was yesterday! \"@laurencristmann: thank you for coming to pennsylvania today. i will be there with @c_lynne_ryan your 3rd cd delegate at 2 pm\" ratings challenged @cnn reports so seriously that i call president obama (and clinton) \"the founder\" of isis, &amp; mvp. they dont get sarcasm? \"@enemywithinn: @realdonaldtrump @elsolarverde @nytimes people gotta stop believing media lies about trump.\" that would indeed be nice! \"@elsolarverde: the corrupt media creats controversy against @realdonaldtrump to avoid issues about hillaryclinton  \" \"@sheriffclarke:   everything coming from this administration is a lie. only @realdonaldtrump will change it\" will be doing @oreillyfactor tonight at 8pm. enjoy! this is no surprise. constant phony reporting from failing @cnn turns everyone off. the american people get it!   thank you fort lauderdale, florida.\\n#makeamericagreatagain   great job today by the nypd in protecting the people and saving the climber. reuters just announced that secret service never spoke to me or my campaign. made up story by @cnn is a hoax. totally dishonest. \"@dsf2020: really admire your determination: working so hard for all americans n daily having to defend yourself from a biased media.\" #makeamericagreatagain!   thank you abingdon, virginia!\\n#makeamericagreatagain\\n    no such meeting or conversation ever happened - a made up story by \"low ratings\" @cnn. great meeting w/ coal miners &amp; leaders from the virginia coal industry- thank you! #maga\\n    i will be interviewed on @greta tonight at 7pm. enjoy!   my thoughts and prayers are with the two police officers shot in sebastian county, arkansas. #lesm morning joes weakness is its low ratings. i dont watch anymore but i heard he went wild against rudy giuliani and #2a - sad &amp; irrelevant! .@dbongino  you were fantastic in defending both the second amendment and me last night on @cnn. don lemon is a lightweight - dumb as a rock \"@dbongino: now cut off my mic! bongino refuses to be bullied by don lemon over trump, 2nd amendment  heated!  \" media desperate to distract from clintons anti-2a stance. i said pro-2a citizens must organize and get out vote to save our constitution! when is the media going to talk about hillarys policies that have gotten people killed, like libya, open borders, and maybe her emails? thank you senator @chuckgrassley! #trumppence16\\n  thank you @senatorfischer! #trumppence16\\n  thank you wilmington, north carolina!\\n#makeamericagreatagain   rt @nra: but there is something we will do on #electionday: show up and vote for the #2a! #defendthesecond #neverhillary rt @nra: .@realdonaldtrump is right. if @hillaryclinton gets to pick her anti-#2a #scotus judges, theres nothing we can do. #neverhillary rt @carl_c_icahn: 2/2  how many of our presidents, even our great presidents, would have handled the antics that went on in that auditorium_ rt @carl_c_icahn: 1/2   believe trump gave a great speech. \"@linhen23:  @foxandfriends loved trumps answers to voters questions this morning! trumps economic plan will help #maga #neverhillary\" \"@sprts08: @realdonaldtrump @foxandfriends great interview.....all solid points on our economy trump2016\" i am running against the washington insiders, just like i did in the republican primaries. these are the people that have made u.s. a mess! will be interviewed on @foxandfriends now! being in detroit today was wonderful. quick stop in ohio to meet with some of our great supporters. just got back home! rt @fieldoffight: we can do better, we must do better, we will do better\\nby ltg (r) keith kellogg and ltg (r) michael flynn @genflynn http_ as senator clinton promised 200,000 jobs in upstate new york - her efforts fell flat.     many people are saying that the iranians killed the scientist who helped the u.s. because of hillary clintons hacked emails. thank you newt!    thank you congressman steven palazzo!     thank you senator david perdue!\\n    thank you @reploubarletta!\\n    thank you @nfib- together we will #makeamericagreatagain!    thank you!    thank you alex!    rt @nfib: .@nfib encouraged by @realdonaldtrumps #taxplan, says #smallbiz would benefit from lower tax rate:   my economic policy speech will be carried live at 12:15 p.m. enjoy! join me in fayetteville, north carolina tomorrow evening at 6pm. tickets now available at:   #icymi: \"will media apologize to trump?\"   michael morell, the lightweight former acting director of c.i.a., and a man who has made serious bad calls, is a total clinton flunky! the media is going crazy. they totally distort so many things on purpose. crimea, nuclear, \"the baby\" and so much more. very dishonest! rt @drudge_report: clinton email led to execution in iran?   i see where mayor stephanie rawlings-blake of baltimore is pushing crooked hard. look at the job she has done in baltimore. she is a joke! thank you windham, new hampshire! #trumppence16 #maga   .@larry_kudlow - donald trump is the middle-class growth candidate\\n  i am not just running against crooked hillary clinton, i am running against the very dishonest and totally biased media - but i will win! #crookedhillary is not fit to be our next president! #trumppence16\\n  heading to new hampshire - will be talking about hillary saying her brain short circuited, and other things! anybody whose mind \"short circuits\" is not fit to be our president! look up the word \"brainwashed.\" crooked hillary said loudly, and for the world to see, that she \"short circuited\" when answering a question on her e-mails. very dangerous! hillary clinton is being badly criticized for her poor performance in answering questions. let us all see what happens! good luck #teamusa\\n#openingceremony #rio2016   trump is right about violent crime: its on the rise in major cities\\n  thank you green bay, wisconsin! governor @mike_pence and i will be back soon. #trumppence16 #maga   dont let hillary clinton do it again!\\n#trumppence16\\n  thank you des moines, iowa! governor @mike_pence and i appreciate your support! #maga #trumptrain   #makeamericasafeagain   rt @drudge_report: former hostage says plane waited until money arrived...   rt @drudge_report: win-lose deal that benefits iran and hurts united states...   hillary clinton has bad judgment and is unfit to serve as president.\\n  the plane i saw on television was the hostage plane in geneva, switzerland, not the plane carrying $400 million in cash going to iran! president obama refuses to answer question about iran terror funding.  i wont dodge questions as your president.   obamas disastrous judgment gave us isis, rise of iran, and the worst economic numbers since the great depression! president obama should ask the dnc about how they rigged the election against bernie. see you tomorrow w/ gov. @mike_pence, iowa &amp; wisconsin!\\n3pm-  \\n7pm-     thank you portland, maine!\\n#makeamericagreatagain\\n    happy 226th birthday to the united states coast guard. thank you @uscg! #coastguardday   great meeting all of you. this group knocked on 50k doors &amp; counting here in maine, thank you! @mainegop    looking forward to ia &amp; wi with gov. pence, tomorrow. join us! #maga\\n \\n    thank you jacksonville, florida!\\n#makeamericagreatagain\\n    thank you for your support of my candidacy! #maga #imwithyou\\n  thank you to the amazing law enforcement officers today- in daytona beach, florida! #lesm #maga   thank you daytona beach, florida!\\n#makeamericagreatagain   rt @mike_pence: join me in colorado, today! look forward to seeing you!\\n\\ndenver- 2pm\\n \\n\\ncolorado springs- 6pm\\nhttps:/_ our incompetent secretary of state, hillary clinton, was the one who started talks to give 400 million dollars, in cash, to iran. scandal! there is great unity in my campaign, perhaps greater than ever before. i want to thank everyone for your tremendous support. beat crooked h! great day in virginia. crowd was fantastic! my daughter @ivankatrump will be on @greta tonight at 7pm. enjoy!   report raises questions about clinton cash from russians during reset   president obama will go down as perhaps the worst president in the history of the united states! rt @gatewaypundit: democrat fire marshal turns thousands of trump supporters away at columbus rally   via @gatewaypun_ #icymi: john podestas brother pocketed $180,000 from putins uranium company:     #crookedhillary   join me in florida tomorrow!\\n#makeamericagreatagain\\n\\ndaytona  3pm-\\n \\n\\njacksonville  7pm-\\n  statement in response to president obamas failed leadership:   thank you virginia! #imwithyou   the washington post calls out #crookedhillary for what she really is. a pathological liar! watch that nose grow!   great afternoon in ohio &amp; a great evening in pennsylvania - departing now. see you tomorrow virginia!   just leaving mechanicsburg, pa. incredible crowd-- so enthusiastic! will be back soon. #maga   rt @danscavino: .@realdonaldtrump stops by overflow room in mechanicsburg, pennsylvania- prior to main rally. #trumpmovement #maga__ https:_ vast numbers of manufacturing jobs in pennsylvania have moved to mexico and other countries. that will end when i win! thanks to @pnehlen for your kind words, very much appreciated. join me in florida on wednesday! daytona &amp; jacksonville:\\n\\ndaytona  3pm-  \\njacksonville  7pm-   during the gop convention, cnn cut away from the victims of illegal immigrant violence. they dont want them heard.   when will cnn do a segment on hillarys plan to increase syrian refugees 550% and how much it will cost? hillary clinton raked in money from regimes that horribly oppress women and gays &amp; refuses to speak out against radical islam. hillary, whose decisions have led to the deaths of many, accepted $ from a business linked to isis. silence at cnn.   crooked hillary clinton is 100% owned by her donors. #imwithyou #maga   thank you columbus, ohio! i will be back soon. #imwithyou #maga   thank you oklahoma &amp; virginia!\\n#makeamericagreatagain #imwithyou   people believe cnn these days almost as little as they believe hillary....thats really saying something! the people who support hillary sit behind cnn anchor chairs, or headline fundraisers - those disconnected from real life. will cnn send its cameras to the border to show the massive unreported crisis now unfolding -- or are they worried it will hurt hillary? when will we see stories from cnn on clinton foundation corruption and hillarys pay-for-play at state department? cnn anchors are completely out of touch with everyday people worried about rising crime, failing schools and vanishing jobs. cnn will soon be the least trusted name in news if they continue to be the press shop for hillary clinton. join governor mike pence in reno, nevada- tonight at 7pm! tickets available at:   #crookedhillary\\n  so with all of the obama tough talk on russia and the ukraine, they have already taken crimea and continue to push. thats what i said! when i said in an interview that putin is \"not going into ukraine, you can mark it down,\" i am saying if i am president. already in crimea! this story is not about mr. khan, who is all over the place doing interviews, but rather radical islamic terrorism and the u.s. get smart! mr. khan, who does not know me, viciously attacked me from the stage of the dnc and is now all over t.v. doing the same - nice! wow, it is unbelievable how distorted, one-sided and biased the media is against us. the failing @nytimes is a joke. @cnn is laughable! \"@realjameswoods:  without absolutely owning the liberal media, hillaryclinton wouldnt stand a chance. #voterfraud and #msm her only hope.\" the dishonest media is fawning over the democratic convention. i wonder why, then, my speech had millions of more viewers than crooked h? i was viciously attacked by mr. khan at the democratic convention. am i not allowed to respond? hillary voted for the iraq war, not me! captain khan, killed 12 years ago, was a hero, but this is about radical islamic terror and the weakness of our \"leaders\" to eradicate it! nielson media research final numbers on acceptance speech: trump  32.2 million.  clinton 27.8 million.  thank you! thank you to all of the television viewers that made my speech at the republican national convention #1 over crooked hillary and dems. can you imagine if i had the small crowds that hillary is drawing today in pennsylvania. it would be a major media event! @cnn @foxnews nato commander agrees members should pay up via @dcexaminer:\\n  wow, natos top commander just announced that he agrees with me that alliance members must pay their bills. this is a general i will like! the \"rust belt\" was created by politicians like the clintons who allowed our jobs to be stolen from us by other countries like mexico. end! crookeds stop in johnstown, pennsylvania, where jobs have been absolutely decimated by dumb politicians, drew less than 200 - with bill, vp #crookedhillary = obamas third term, which would be terrible news for our economic growth - seen below.   word is that crooked hillary has very small and unenthusiastic crowds in pennsylvania. perhaps it is because her husband signed nafta? i turned down a meeting with charles and david koch. much better for them to meet with the puppets of politics, they will do much better! why doesnt the media want to report that on the two \"big thursdays\" when crooked hillary and i made our speeches - republicans won ratings #crookedhillary   crooked hillary clinton is soft on crime, supports open borders, and wants massive tax hikes. a formula for disaster! violent crime is rising across the united states, yet the dnc convention ignored it. crime reduction will be one of my top priorities. just got back from colorado. the love and enthusiasm at two rallies was incredible. big crowds! while i am in oh &amp; pa - you can also join @mike_pence in nevada on mon!\\n\\ncarson city:  \\n\\nreno:   join me monday in columbus, ohio &amp; harrisburg, pennsylvania! #maga\\n\\n3pm in oh:  \\n\\n7pm in pa:   american homeownership rate in q2 2016 was 62.9% - lowest rate in 51yrs. we will bring back the  american dream!   we are suffering through the worst long-term unemployment in the last 70 years. i want change - crooked hillary clinton does not. hillary can never win over bernie supporters. her foreign wars,\\nnafta/tpp support &amp; wall street ties are driving away millions of votes. colorado was amazing yesterday! so much support. our tax, trade and energy reforms will bring great jobs to colorado and the whole country. \"@patrioticpepe: @realdonaldtrump only trump can unite america and fix obamas mistakes!!! #trump2016  \" thank you denver, colorado!\\n#makeamericagreatagain!   as usual, hillary &amp; the dems are trying to rig the debates so 2 are up against major nfl games. same as last time w/ bernie. unacceptable! #crookedhillary job application   hillary clinton should not be given national security briefings in that she is a lose cannon with extraordinarily bad judgement &amp; insticts. thank you to the amazing law enforcement officers in colorado!\\n#makeamericagreatagain #lesm   thank you colorado springs. get out &amp; vote #trumppence16 in november!   \"only a reagan or a trump-like figure in the white house will achieve this goal.\"   even bill is tired of the lies, sad!   join me in colorado springs at 2pm- or in denver tonight at 7pm!\\n\\ncolorado springs:  \\n\\ndenver:   what bernie sanders really thinks of crooked hillary clinton.   i am watching crooked hillary speak. same old stuff, our country needs change! wow, my campaign is hearing from more and more bernie supporters that they will never support crooked hillary. she sold them out, v.p. pick! in hillary clintons america - things get worse. #trumppence16   the dishonest media didnt mention that bernie sanders was very angry looking during crookeds speech. he wishes he didnt make that deal! thank you!\\n\\nfacebook:  \\n\\ninstagram:     crooked hillary said that i \"couldnt handle the rough and tumble of a political campaign.\" really,i just beat 16 people and am beating her! if michael bloomberg ran again for mayor of new york, he wouldnt get 10% of the vote - they would run him out of town!  #neverhillary \"little\" michael bloomberg, who never had the guts to run for president, knows nothing about me. his last term as mayor was a disaster! general john allen, who i never met but spoke against me last night, failed badly in his fight against isis. his record = bad  #neverhillary crooked hillary clinton mentioned me 22 times in her very long and very boring speech. many of her statements were lies and fabrications! join @mike_pence at the university of northwestern ohio- tonight at 7pm. tickets:   \"@anncoulter: \"i believe in science\" dem code for \"were shutting down coal mines, steel plants and any other remaining manufacturing\"\" campaign statement:\\n  two policemen just shot in san diego, one dead. it is only getting worse. people want law and order! crooked hillary clinton made up facts about me, and \"forgot\" to mention the many problems of our country, in her very average scream! the media coverage this morning of the very average clinton speech and convention is a joke. @cnn and the little watched @morning_joe = sad! no one has worse judgement than hillary clinton - corruption and devastation follows her wherever she goes. hillarys wars in the middle east have unleashed destruction, terrorism and isis across the world. hillarys vision is a borderless world where working people have no power, no jobs, no safety. hillary will never reform wall street. she is owned by wall street! our way of life is under threat by radical islam and hillary clinton cannot even bring herself to say the words. hillarys refusal to mention radical islam, as she pushes a 550% increase in refugees, is more proof that she is unfit to lead the country. departing now - thank you cedar rapids, iowa. this is a movement!   #crookedhillary   \"dems warn not to underestimate trumps potential win\"\\n  great to be back in iowa! #tbt with @jerryjrfalwell joining me in davenport- this past winter. #maga   median household income is down for the middle class since obama took office. it will only go further down under clinton. a vote for clinton-kaine is a vote for tpp, nafta, high taxes, radical regulation, and massive influx of refugees. americas future\\n  bernie caved!   \"@lallyray: poll: donald trump sees 17-point positive swing in two weeks - breitbart   @realdonaldtrump\"  great! rt @mike_pence: good morning! join me in lima, ohio - tomorrow evening at 7pm. #maga\\ntickets:   rt @piersmorgan: trump makes a funny, obvious joke about russia going after hillarys emails &amp; u.s. media goes insane with fury.\\nhe plays t_ rt @drudge_report: obama refers to himself 119 times during hillary nominating speech...   president obama spoke last night about a world that doesnt exist. 70% of the people think our country is going in the wrong direction. #dnc \"@trumplican2016: @realdonaldtrump @davidwohl stay the course mr trump your message is resonating with the people\" \"@davidwohl: barack is offended that @realdonaldtrump will demand that #nato allies pay their fair share. #demsinphilly\" our country does not feel great already to the millions of wonderful people living in poverty, violence and despair. shooting deaths of police officers up 78% this year. we must restore law and order and protect our great law enforcement officers! join me live in toledo, ohio!\\n#makeamericagreatagain\\n  #crookedhillary   thank you pennsylvania!\\n#makeamericagreatagain\\n    thank you to our amazing law enforcement officers! #maga   \"trump right: illegal families crossing border set to double, 51,152 so far\"\\n  great new poll - thank you!\\n#makeamericagreatagain   if russia or any other country or person has hillary clintons 33,000 illegally deleted emails, perhaps they should share them with the fbi! join our next vice president, @mike_pence in wisconsin tonight &amp; michigan thursday!\\n\\nmi:  \\nwi:   not one american flag on the massive stage at the democratic national convention until people started complaining-then a small one. pathetic our not very bright vice president, joe biden, just stated that i wanted to \"carpet bomb\" the enemy. sorry joe, that was ted cruz! crooked hillary clinton wants to flood our country with syrian immigrants that we know little or nothing about. the danger is massive. no! hopefully the violent and vicious killing by isis of a beloved french priest is causing people to start thinking rationally. get tough! the democratic convention has paid zero respect to the great police and law enforcement professionals of our country. no recognition - sad! funny how the failing @nytimes is pushing dems narrative that russia is working for me because putin said \"trump is a genius.\" america 1st! as i have been saying, crooked hillary will approve the job killing tpp after the election, despite her statements to the contrary: top adv. just like i have warned from the beginning, crooked hillary clinton will betray you on the tpp.\\n  many of bernies supporters have left the arena. did bernie go home and go to sleep? i hate to say it, but the republican convention was far more interesting (with a much more beautiful set) than the democratic convention! no matter what bill clinton says and no matter how well he says it, the phony media will exclaim it to be incredible. highly overrated! you have no idea what my strategy on isis is, and neither does isis (a good thing). please get your facts straight - thanks. @megynkelly for the record, i have zero investments in russia. in order to try and deflect the horror and stupidity of the wikileakes disaster, the dems said maybe it is russia dealing with trump. crazy! #crookedhillary\\n  dems dont want to talk isis b/c hillarys foreign interventions unleashed isis &amp; her refugee plans make it easier for them to come here. bernies exhausted, he just wants to shut down and go home to bed! the invention of email has proven to be a very bad thing for crooked hillary in that it has proven her to be both incompetent and a liar! thank you new hampshire!\\n#makeamericagreatagain   join us in toledo, ohio- tomorrow night at 8pm! #trumppence16 #maga\\ntickets:     join us tomorrow in scranton, pennsylvania at 3pm!\\n#trumppence16 #maga\\ntickets:     pocahontas bombed last night! sad to watch. why arent the democrats speaking about isis, bad trade deals, broken borders, police and law and order. the republican convention was great funny, if you listen to @foxnews, the democrats did not have a good day. if you listen to the other two, they are fawning. what a difference bernie sanders totally sold out to crooked hillary clinton. all of that work, energy and money, and nothing to show for it! waste of time. elizabeth warren, often referred to as pocahontas, just misrepresented me and spoke glowingly about crooked hillary, who she always hated! sad to watch bernie sanders abandon his revolution. we welcome all voters who want to fix our rigged system and bring back our jobs. if cory booker is the future of the democratic party, they have no future! i know more about cory than he knows about himself. i was at @foxnews and met juan williams in passing.  he asked if he could have pictures taken with me. i said fine. he then trashes on air! hard to believe that bernie sanders has done such a complete fold. he got nothing for all of the time, energy and money. the v.p. a joke! while bernie has totally given up on his fight for the people, we welcome all voters who want a better future for our workers. clinton betrayed bernie voters. kaine supports tpp, is in pocket of wall street, and backed iraq war. thank you ohio! #trumppence16\\n    thank you roanoke, virginia- be back soon! #trumppence16\\n    make america safe and great again! #trumppence16\\n    #makeamericagreatagain\\n    great poll numbers are coming out all over. people dont want another four years of obama, and crooked hillary would be even worse. #maga the state of florida is so embarrassed by the antics of crooked hillary clinton and debbie wasserman schultz that they will vote for change! wow, the republican convention went so smoothly compared to the dems total mess. but fear not, the dishonest media will find a good spinnnn! here we go again with another clinton scandal, and e-mails yet (can you believe). crooked hillary knew the fix was in, b never had a chance! crooked hillary clinton knew everything that her \"servant\" was doing at the dnc - they just got caught, thats all! they laughed at bernie. if bernie sanders, after seeing the just released e-mails, continues to look exhausted and done, then his legacy will never be the same. thank you! #makeamericagreatagain   hillary was involved in the e-mail scandal because she is the only one with judgement so bad that such a thing could have happened! how much bad judgement was on display by the people in dnc in writing those really dumb e-mails, using even religion, against bernie! the new joke in town is that russia leaked the disastrous dnc e-mails, which should never have been written (stupid), because putin likes me watched crooked hillary clinton and tim kaine on 60 minutes. no way they are going to fix americas problems. isis &amp; all others laughing! the ratings for the republican national convention were very good, but for the final night, my speech, great. thank you! the highly neurotic debbie wasserman schultz is angry that, after stealing and cheating her way to a crooked hillary victory, shes out! the democrats are in a total meltdown but the biased media will say how great they are doing! e-mails say the rigged system is alive &amp; well! even though bernie sanders has lost his energy and his strength, i dont believe that his supporters will let crooked hillary off the hook! crooked hillary clinton was not at all loyal to the person in her rigged system that pushed her over the top, dws. too bad bernie flamed out if the republican convention had blown up with e-mails, resignation of boss and the beat down of a big player. (bernie), media would go wild the @cnn panels are so one sided, almost all against trump. @foxnews is so much better and the ratings are much higher. dont watch cnn! i always said that debbie wasserman schultz was overrated. the dems convention is cracking up and bernie is exhausted, no energy left! today proves what i have always known, that @reince priebus is the tough one and the smart one, not debbie wasserman shultz (@dwstweets.) sorry folks, but bernie sanders is exhausted, just cant go on any longer. he is trying to dismiss the new e-mails and dnc disrespect. sad! there is no longer a bernie sanders \"political revolution.\" he is turning out to be a weak and somewhat pathetic figure,wants it all to end! an analysis showed that bernie sanders would have won the democratic nomination if it were not for the super delegates. looks like the bernie people will fight. if not, their blood, sweat and tears was a total waste of time. kaine stands for opposite! wow, president obamas brother, malik, just announced that he is voting for me. was probably treated badly by president-like everybody else! bernie sanders started off strong, but with the selection of kaine for v.p., is ending really weak. so much for a movement! total disrespect the crooked hillary v.p. choice is very disrespectful to bernie sanders and all of his supporters. just another case of bad judgement by h! #makeamericagreatagain\\n#trumppence16   \"@nancynielsenn: @realdonaldtrump dinesh dsousa hillarys america. see it\" \"@olimauritania: @realdonaldtrump kaine supported the stupidest deal in the history of deals   #hillarykaine2016\" thank you to everyone for the wonderful reviews of my speech on thursday night. from the heart! the wikileaks e-mail release today was so bad to sanders that it will make it impossible for him to support her, unless he is a fraud! just saw crooked hillary and tim kaine together. isis and our other enemies are drooling. they dont look presidential to me! i will bring jobs back and get wages up. people havent had a real wage increase in almost twenty years. clinton killed jobs! tim kaine has been praising the trans pacific partnership and has been pushing hard to get it approved. job killer! funny that the democrats would have their convention in pennsylvania where her husband and her killed so many jobs. i will bring jobs back! crooked hillary clinton has destroyed jobs and manufacturing in pennsylvania. against steelworkers and miners. husband signed nafta. leaked e-mails of dnc show plans to destroy bernie sanders. mock his heritage and much more. on-line from wikileakes, really vicious. rigged pocahontas wanted v.p. slot so badly but wasnt chosen because she has done nothing in the senate. also, crooked hillary hates her! tim kaine is, and always has been, owned by the banks. bernie supporters are outraged, was their last choice. bernie fought for nothing! the bernie sanders supporters are furious with the choice of tim kaine, who represents the opposite of what bernie stands for. philly fight? \"@theresa_cali: @realdonaldtrump general michael flynn will make a great secretary of defense when you become potus! #makeamericasafeagain\" i highly recommend the just out book - the field of fight - by general michael flynn. how to defeat radical islam. is it the same kaine that took hundreds of thousands of dollars in gifts while governor of virginia and didnt get indicted while bob m did? another attack, this time in germany. many killed. god bless the people of munich. one of the best produced, including the incredible stage &amp; set, in the history of conventions. great unity! big t.v. ratings! @karlrove thank you cleveland. we love you and will be back many times! what a great four days in cleveland. so proud of the great job done by the rnc and all. the police and secret service were fantastic! make america safe and great again! #rncincle\\n  formal acceptance of the nomination! #trumppence16   you can watch 360 video live from the podium!   #rncincle #trumpiswithyou #makeamericagreatagain this is a movement! #rncincle   thank you @donaldjtrumpjr. proud of you! #rncincle #trumppence2016   great job @ivankatrump! #rncincle\\n  other than a small group of people who have suffered massive and embarrassing losses, the party is very united. great love in the arena! ted cruz talks about the constitution but doesnt say that if the dems win the presidency, the new justices appointed will destroy us all! i am soooo proud of my children, don, eric and tiffany - their speeches, under enormous pressure, were incredible. ivanka intros me tonight! great job @erictrump! proud of you!\\n#americafirst #rncincle   make america great again!   arena was packed, totally electric! .@mike_pence was fantastic tonight. will be a great v.p. our next vice president of the united states of america, gov. @mike_pence!\\n#gopincle #gopconvention\\n#americafirst   wow, ted cruz got booed off the stage, didnt honor the pledge! i saw his speech two hours early but let him speak anyway. no big deal! great job @erictrump! proud of you!\\n#americafirst #rncincle\\n    thank you @scottwalker! #americafirst\\n#rncincle   thank you to governor @scottwalker for such warm support. great speech! thank you @ingrahamangle! #americafirst   #americafirst #rncincle\\n  watching the #gopconvention\\n#americafirst #rncincle john kasich was never asked by me to be v.p. just arrived in cleveland - will be a great two days! statement on melania speech\\n  the media is spending more time doing a forensic analysis of melanias speech than the fbi spent on hillarys emails. good news is melanias speech got more publicity than any in the history of politics especially if you believe that all press is good press! in november, i think the people of ohio will remember that the republicans picked cleveland instead of going to another state. jobs! bill hemmer of @foxnews was very nice in explaining the excitement and energy in the arena. more than in past years. congratulations to my children, don and tiffany, on having done a fantastic job last night. i am very proud of you! such a great honor to be the republican nominee for president of the united states. i will work hard and never let you down! america first! the roll call is beginning at the republican national convention. very exciting! #makeamericaworkagain\\n#trumppence16 #rncincle\\n    #makeamericaworkagain\\n#trumppence16 #rncincle\\n    \"@roxanetancredi:  democrats are coming to trump. i used to be proud of the dem party. no more it is crooked and not for the people.\" it was truly an honor to introduce my wife, melania. her speech and demeanor were absolutely incredible. very proud! #gopconvention will be on @oreillyfactor tonight at 8:30pm @foxnews- prior to melanias speech at the #gopconvention. tune in- she will do great! #rncincle #makeamericasafeagain!\\n#gopconvention #rncincle\\n    networks other than low ratings @cnn have been very fair and exciting! .@cnn is the worst.they go to their dumb, one-sided panels when a podium speaker is for trump! vast majority want: make america great again! looking forward to being at the convention tonight to watch all of the wonderful speakers including my wife, melania. place looks beautiful! thank you mahoning county, ohio! see you soon! #makeamericasafeagain\\n    rt @foxandfriends: still ahead: @realdonaldtrump joins us at 7am/et! #rncincle   president obama just had a news conference, but he doesnt have a clue. our country is a divided crime scene, and it will only get worse! our country is totally divided and our enemies are watching. we are not looking good, we are not looking smart, we are not looking tough! \"@60minutes: donaldtrump and his running mate @mike_pence to appear on #60minutes in first joint interview. cbs  \" i will be on @60minutes tonight at 7:00 p.m. with mike pence talking about law and order and many other subjects! bad times for divided usa! we are trying to fight isis, and now our own people are killing our police. our country is divided and out of control. the world is watching we grieve for the officers killed in baton rouge today. how many law enforcement and people have to...\\n  the ratings at @foxnews blow away the ratings of @cnn - not even close. thats because cnn is the clinton news network and people dont like .@foxnews is much better, and far more truthful, than @cnn, which is all negative. guests are stacked for crooked hillary! i dont watch. if goofy elizabeth warren, a very weak senator, didnt lie about her heritage (being native american) she would be nothing today. pick her h i hope that crooked hillary picks goofy elizabeth warren, sometimes referred to as pocahontas, as her v.p. then we can litigate her fraud! it doesnt matter that crooked hillary has experience, look at all of the bad decisions she has made. bernie said she has bad judgement! as the days and weeks go by,  we see what a total mess our country (and world) is in - crooked hillary clinton led obama into bad decisions! we are going to have a great time in cleveland. will lead to special results for our country. we will make america great again! goofy elizabeth warren, who may be the least productive senator in the u.s. senate, must prove she is not a fraud. without the con its over thank you to jack morgan, tamara neo, cheryl ann kraft and all of my friends and supporters in virginia. great job! \"@trumpdoonbeg: great news! weve been nominated for irelands best golf hotel 2016.we would appreciate your vote!  \" thank you to chris cox and bikers for trump - your support has been amazing. i will never forget. make america great again! thank you! #trumppence16   crooked hillary clinton is bought and paid for by wall street, lobbyists and special interests. she will sell our country down the tubes! very sad that a person who has made so many mistakes, crooked hillary clinton, can put out such false and vicious ads with her phony money! crooked hillary, who embarrassed herself and the country with her e-mail lies, has been a disaster on foreign policy. look whats happening! crooked hillary is spending big wall street money on ads saying i dont have foreign policy experience, yet look what her policies have done look forward to introducing governor mike pence (who has done a spectacular job in the great state of indiana). my first choice from start! look forward to governor mike pence v.p. introduction tomorrow in new york city. i am pleased to announce that i have chosen governor mike pence as my vice presidential running mate. news conference tomorrow at 11:00 a.m. four more years of weakness with a crooked hillary administration is not acceptable. look what has happened to the world with o &amp; hillary! #nevertrump is never more. they were crushed last night in cleveland at rules committee by a vote of 87-12. make america great again! my prayers and condolences to the victims and families of the terrible tragedy in nice, france. we are with you in every way! in light of the horrible attack in nice, france, i have postponed tomorrows news conference concerning my vice presidential announcement. another horrific attack, this time in nice, france. many dead and injured. when will we learn? it is only getting worse. i employ many people in the state of virginia - jobs, jobs, jobs! crooked hillary will sell us out, just like her husband did with nafta. another new poll. thank you for your support! join the movement today!\\n#imwithyou     great new poll- thank you america!\\n#trump2016 #imwithyou   i will be making the announcement of my vice presidential pick on friday at 11am in manhattan. details to follow. if i win the presidency, we will swamp justice ginsburg with real judges and real legal opinions! even the @nytimes and @washingtonpost editorial boards condemned justice ginsburg for her ethical and legal breach. what was she thinking? is supreme court justice ruth bader ginsburg going to apologize to me for her misconduct? big mistake by an incompetent judge! on my way to san diego to raise money for the republican party. i am spending a lot myself and also helping others. voters understand that crooked hillarys negative ads are not true- just like her email lies and her other fraudulent activity. despite spending $500k a day on tv ads alone #crookedhillary falls flat in nationwide @quinnipiacpoll. having zero impact. sad!!'"
      ]
     },
     "execution_count": 10,
     "metadata": {},
     "output_type": "execute_result"
    }
   ],
   "source": [
    "#convert characters back to strings\n",
    "tf.strings.reduce_join(chars, axis=-1).numpy()"
   ]
  },
  {
   "cell_type": "code",
   "execution_count": 11,
   "id": "12308c2b",
   "metadata": {},
   "outputs": [],
   "source": [
    "def text_from_ids(ids):\n",
    "    return tf.strings.reduce_join(chars_Vocab_Ids(ids), axis=-1)"
   ]
  },
  {
   "cell_type": "code",
   "execution_count": 12,
   "id": "881c2d55",
   "metadata": {},
   "outputs": [],
   "source": [
    "#make a dataset of the IDs\n",
    "ids_dataset = tf.data.Dataset.from_tensor_slices(ids)\n",
    "\n",
    "chars_from_ids = tf.keras.layers.experimental.preprocessing.StringLookup(\n",
    "    vocabulary=char_Ids.get_vocabulary(), invert=True, mask_token=None)\n",
    "\n",
    "#for each id in the dataset ID print out the character, only for the first 10 IDs\n",
    "#for ids in ids_dataset.take(10):\n",
    "    #print(chars_from_ids(ids).numpy().decode('utf-8'))"
   ]
  },
  {
   "cell_type": "code",
   "execution_count": 13,
   "id": "81e5df3c",
   "metadata": {},
   "outputs": [
    {
     "name": "stdout",
     "output_type": "stream",
     "text": [
      "tf.Tensor(\n",
      "[b't' b'o' b'd' b'a' b'y' b' ' b'w' b'e' b' ' b'e' b'x' b'p' b'r' b'e'\n",
      " b's' b's' b' ' b'o' b'u' b'r' b' ' b'd' b'e' b'e' b'p' b'e' b's' b't'\n",
      " b' ' b'g' b'r' b'a' b't' b'i' b't' b'u' b'd' b'e' b' ' b't' b'o' b' '\n",
      " b'a' b'l' b'l' b' ' b't' b'h' b'o' b's' b'e' b' ' b'w' b'h' b'o' b' '\n",
      " b'h' b'a' b'v' b'e' b' ' b's' b'e' b'r' b'v' b'e' b'd' b' ' b'i' b'n'\n",
      " b' ' b'o' b'u' b'r' b' ' b'a' b'r' b'm' b'e' b'd' b' ' b'f' b'o' b'r'\n",
      " b'c' b'e' b's' b'.' b' ' b'#' b't' b'h' b'a' b'n' b'k' b'a' b'v' b'e'\n",
      " b't' b' ' b' '], shape=(101,), dtype=string)\n"
     ]
    }
   ],
   "source": [
    "#create a sequence of 100\n",
    "#this is done so when there is a sequence of certain words it has a target out put of certain words\n",
    "#such as the word heart if it has the seuquence length of 4, the input would be hear and the output would be eart\n",
    "seq_length = 100\n",
    "\n",
    "examples_per_epoch = len(tweets)//(seq_length+1)\n",
    "\n",
    "sequences = ids_dataset.batch(seq_length+1, drop_remainder=True)\n",
    "\n",
    "for seq in sequences.take(1):\n",
    "      print(chars_from_ids(seq))"
   ]
  },
  {
   "cell_type": "code",
   "execution_count": 14,
   "id": "0849d82b",
   "metadata": {},
   "outputs": [
    {
     "name": "stdout",
     "output_type": "stream",
     "text": [
      "b'today we express our deepest gratitude to all those who have served in our armed forces. #thankavet  '\n",
      "b' busy day planned in new york. will soon be making some very important decisions on the people who wi'\n",
      "b'll be running our government! love the fact that the small groups of protesters last night have passi'\n",
      "b'on for our great country. we will all come together and be proud! just had a very open and successful'\n",
      "b' presidential election. now professional protesters, incited by the media, are protesting. very unfai'\n"
     ]
    }
   ],
   "source": [
    "#for each seq in sequences print out the text\n",
    "#so in this case we print out first 100 characters which are a sequence and print out that sequence of text\n",
    "for seq in sequences.take(5):\n",
    "    print(text_from_ids(seq).numpy())"
   ]
  },
  {
   "cell_type": "code",
   "execution_count": 15,
   "id": "9d4f326e",
   "metadata": {},
   "outputs": [
    {
     "name": "stdout",
     "output_type": "stream",
     "text": [
      "Input : b'today we express our deepest gratitude to all those who have served in our armed forces. #thankavet '\n",
      "Target: b'oday we express our deepest gratitude to all those who have served in our armed forces. #thankavet  '\n"
     ]
    }
   ],
   "source": [
    "def split_input_target(sequence):\n",
    "    input_text = sequence[:-1]\n",
    "    target_text = sequence[1:]\n",
    "    return input_text, target_text\n",
    "\n",
    "dataset = sequences.map(split_input_target)\n",
    "\n",
    "#when given a sequence and the first letter is removed output the proper response\n",
    "for input_example, target_example in dataset.take(1):\n",
    "    print(\"Input :\", text_from_ids(input_example).numpy())\n",
    "    print(\"Target:\", text_from_ids(target_example).numpy())"
   ]
  },
  {
   "cell_type": "code",
   "execution_count": 16,
   "id": "20f1daae",
   "metadata": {},
   "outputs": [
    {
     "data": {
      "text/plain": [
       "<PrefetchDataset shapes: ((64, 100), (64, 100)), types: (tf.int64, tf.int64)>"
      ]
     },
     "execution_count": 16,
     "metadata": {},
     "output_type": "execute_result"
    }
   ],
   "source": [
    "#Batch size\n",
    "BATCH_SIZE = 64\n",
    "\n",
    "#Buffer size to shuffle the dataset\n",
    "BUFFER_SIZE = 10000\n",
    "\n",
    "#split data into sequences and shuffle it and pack it into batches\n",
    "dataset = (\n",
    "    dataset\n",
    "    .shuffle(BUFFER_SIZE)\n",
    "    .batch(BATCH_SIZE, drop_remainder=True)\n",
    "    .prefetch(tf.data.experimental.AUTOTUNE))\n",
    "\n",
    "dataset"
   ]
  },
  {
   "cell_type": "code",
   "execution_count": 17,
   "id": "ff8fd396",
   "metadata": {},
   "outputs": [],
   "source": [
    "#Building the model\n",
    "#Length of the vocabulary in chars\n",
    "vocab_size = len(unique)\n",
    "\n",
    "#The embedding dimension\n",
    "embedding_dim = 256\n",
    "\n",
    "#Number of RNN units\n",
    "rnn_units = 1024"
   ]
  },
  {
   "cell_type": "code",
   "execution_count": 18,
   "id": "0f75419c",
   "metadata": {},
   "outputs": [],
   "source": [
    "class MyModel(tf.keras.Model):\n",
    "    def __init__(self, vocab_size, embedding_dim, rnn_units):\n",
    "        super().__init__(self)\n",
    "        self.embedding = tf.keras.layers.Embedding(vocab_size, embedding_dim)\n",
    "        self.gru = tf.keras.layers.GRU(rnn_units,\n",
    "                                   return_sequences=True,\n",
    "                                   return_state=True)\n",
    "        self.dense = tf.keras.layers.Dense(vocab_size)\n",
    "\n",
    "    def call(self, inputs, states=None, return_state=False, training=False):\n",
    "        x = inputs\n",
    "        x = self.embedding(x, training=training)\n",
    "        if states is None:\n",
    "            states = self.gru.get_initial_state(x)\n",
    "        x, states = self.gru(x, initial_state=states, training=training)\n",
    "        x = self.dense(x, training=training)\n",
    "\n",
    "        if return_state:\n",
    "              return x, states\n",
    "        else:\n",
    "              return x"
   ]
  },
  {
   "cell_type": "code",
   "execution_count": 19,
   "id": "af9788e7",
   "metadata": {},
   "outputs": [],
   "source": [
    "model = MyModel(\n",
    "    # Be sure the vocabulary size matches the `StringLookup` layers.\n",
    "    vocab_size=len(chars_Vocab_Ids.get_vocabulary()),\n",
    "    embedding_dim=embedding_dim,\n",
    "    rnn_units=rnn_units)"
   ]
  },
  {
   "cell_type": "code",
   "execution_count": 20,
   "id": "e7134a21",
   "metadata": {},
   "outputs": [
    {
     "name": "stdout",
     "output_type": "stream",
     "text": [
      "(64, 100, 59) # (batch_size, sequence_length, vocab_size)\n"
     ]
    }
   ],
   "source": [
    "#Try the model\n",
    "for input_example_batch, target_example_batch in dataset.take(1):\n",
    "    example_batch_predictions = model(input_example_batch)\n",
    "    print(example_batch_predictions.shape, \"# (batch_size, sequence_length, vocab_size)\")"
   ]
  },
  {
   "cell_type": "code",
   "execution_count": 21,
   "id": "a2b654b5",
   "metadata": {},
   "outputs": [
    {
     "name": "stdout",
     "output_type": "stream",
     "text": [
      "Model: \"my_model\"\n",
      "_________________________________________________________________\n",
      " Layer (type)                Output Shape              Param #   \n",
      "=================================================================\n",
      " embedding (Embedding)       multiple                  15104     \n",
      "                                                                 \n",
      " gru (GRU)                   multiple                  3938304   \n",
      "                                                                 \n",
      " dense (Dense)               multiple                  60475     \n",
      "                                                                 \n",
      "=================================================================\n",
      "Total params: 4,013,883\n",
      "Trainable params: 4,013,883\n",
      "Non-trainable params: 0\n",
      "_________________________________________________________________\n"
     ]
    }
   ],
   "source": [
    "model.summary()"
   ]
  },
  {
   "cell_type": "code",
   "execution_count": 22,
   "id": "cc170ab7",
   "metadata": {},
   "outputs": [
    {
     "data": {
      "text/plain": [
       "array([ 8,  1, 30, 28, 14, 39, 52, 39, 34, 43, 37, 47, 29, 22, 26, 28, 41,\n",
       "        2, 18, 21, 10, 21, 44, 20, 29,  5, 20, 58, 29, 10, 47, 30, 13, 18,\n",
       "       25, 56,  1, 47, 26, 11, 15, 54, 32, 58, 14, 28, 23, 18,  1, 21,  3,\n",
       "       33, 42, 28, 37, 58, 52, 45, 21, 30, 22, 33, 58,  6,  7, 36, 10,  2,\n",
       "       24,  0, 48, 20, 36, 11,  5, 41, 42, 42, 57,  6, 14, 58, 35, 15, 35,\n",
       "       10, 29,  0, 16, 37,  7,  0, 47, 53, 54, 24,  1, 45,  9,  5],\n",
       "      dtype=int64)"
      ]
     },
     "execution_count": 22,
     "metadata": {},
     "output_type": "execute_result"
    }
   ],
   "source": [
    "sampled_indices = tf.random.categorical(example_batch_predictions[0], num_samples=1)\n",
    "sampled_indices = tf.squeeze(sampled_indices, axis=-1).numpy()\n",
    "\n",
    "sampled_indices"
   ]
  },
  {
   "cell_type": "code",
   "execution_count": 23,
   "id": "09e11d19",
   "metadata": {},
   "outputs": [
    {
     "name": "stdout",
     "output_type": "stream",
     "text": [
      "Input:\n",
      " b' here:_   so terrible that crooked didnt report she got the debate questions from donna brazile, if '\n",
      "\n",
      "Next Char Predictions:\n",
      " b'&\\n@=.huhclfp?6:=j 25)5m4?#4{?)p@-29y\\np:+/wa{.=72\\n5!bk=f{un5@6b{$%e) 8[UNK]q4e+#jkkz$.{d/d)?[UNK]0f%[UNK]pvw8\\nn(#'\n"
     ]
    }
   ],
   "source": [
    "print(\"Input:\\n\", text_from_ids(input_example_batch[0]).numpy())\n",
    "print()\n",
    "print(\"Next Char Predictions:\\n\", text_from_ids(sampled_indices).numpy())"
   ]
  },
  {
   "cell_type": "code",
   "execution_count": 24,
   "id": "98a8722a",
   "metadata": {},
   "outputs": [
    {
     "name": "stdout",
     "output_type": "stream",
     "text": [
      "Prediction shape:  (64, 100, 59)  # (batch_size, sequence_length, vocab_size)\n",
      "Mean loss:         4.0778017\n"
     ]
    }
   ],
   "source": [
    "#Training the model\n",
    "loss = tf.losses.SparseCategoricalCrossentropy(from_logits=True)\n",
    "\n",
    "example_batch_loss = loss(target_example_batch, example_batch_predictions)\n",
    "mean_loss = example_batch_loss.numpy().mean()\n",
    "print(\"Prediction shape: \", example_batch_predictions.shape, \" # (batch_size, sequence_length, vocab_size)\")\n",
    "print(\"Mean loss:        \", mean_loss)"
   ]
  },
  {
   "cell_type": "code",
   "execution_count": 25,
   "id": "6d2110d9",
   "metadata": {},
   "outputs": [
    {
     "data": {
      "text/plain": [
       "59.015594"
      ]
     },
     "execution_count": 25,
     "metadata": {},
     "output_type": "execute_result"
    }
   ],
   "source": [
    "tf.exp(mean_loss).numpy()"
   ]
  },
  {
   "cell_type": "code",
   "execution_count": 26,
   "id": "8ddaf33e",
   "metadata": {},
   "outputs": [],
   "source": [
    "model.compile(optimizer='adam', loss=loss)\n",
    "\n",
    "# Directory where the checkpoints will be saved\n",
    "checkpoint_dir = './training_checkpoints'\n",
    "# Name of the checkpoint files\n",
    "checkpoint_prefix = os.path.join(checkpoint_dir, \"ckpt_{epoch}\")\n",
    "\n",
    "checkpoint_callback = tf.keras.callbacks.ModelCheckpoint(\n",
    "    filepath=checkpoint_prefix,\n",
    "    save_weights_only=True)"
   ]
  },
  {
   "cell_type": "code",
   "execution_count": 27,
   "id": "0815a5a8",
   "metadata": {},
   "outputs": [
    {
     "name": "stdout",
     "output_type": "stream",
     "text": [
      "Epoch 1/20\n",
      "23/23 [==============================] - 36s 1s/step - loss: 3.8236\n",
      "Epoch 2/20\n",
      "23/23 [==============================] - 40s 2s/step - loss: 3.0230\n",
      "Epoch 3/20\n",
      "23/23 [==============================] - 35s 2s/step - loss: 2.7753\n",
      "Epoch 4/20\n",
      "23/23 [==============================] - 35s 2s/step - loss: 2.6081\n",
      "Epoch 5/20\n",
      "23/23 [==============================] - 37s 2s/step - loss: 2.5131\n",
      "Epoch 6/20\n",
      "23/23 [==============================] - 36s 2s/step - loss: 2.4325\n",
      "Epoch 7/20\n",
      "23/23 [==============================] - 37s 2s/step - loss: 2.3562\n",
      "Epoch 8/20\n",
      "23/23 [==============================] - 36s 2s/step - loss: 2.2723\n",
      "Epoch 9/20\n",
      "23/23 [==============================] - 38s 2s/step - loss: 2.1783\n",
      "Epoch 10/20\n",
      "23/23 [==============================] - 36s 2s/step - loss: 2.0714\n",
      "Epoch 11/20\n",
      "23/23 [==============================] - 34s 1s/step - loss: 1.9619\n",
      "Epoch 12/20\n",
      "23/23 [==============================] - 37s 2s/step - loss: 1.8555\n",
      "Epoch 13/20\n",
      "23/23 [==============================] - 36s 2s/step - loss: 1.7601\n",
      "Epoch 14/20\n",
      "23/23 [==============================] - 37s 2s/step - loss: 1.6746\n",
      "Epoch 15/20\n",
      "23/23 [==============================] - 35s 2s/step - loss: 1.5975\n",
      "Epoch 16/20\n",
      "23/23 [==============================] - 39s 2s/step - loss: 1.5252\n",
      "Epoch 17/20\n",
      "23/23 [==============================] - 37s 2s/step - loss: 1.4561\n",
      "Epoch 18/20\n",
      "23/23 [==============================] - 33s 1s/step - loss: 1.3941\n",
      "Epoch 19/20\n",
      "23/23 [==============================] - 36s 2s/step - loss: 1.3290\n",
      "Epoch 20/20\n",
      "23/23 [==============================] - 34s 1s/step - loss: 1.2677\n"
     ]
    }
   ],
   "source": [
    "EPOCHS = 20\n",
    "history = model.fit(dataset, epochs=EPOCHS, callbacks=[checkpoint_callback])"
   ]
  },
  {
   "cell_type": "code",
   "execution_count": 28,
   "id": "88afbb40",
   "metadata": {},
   "outputs": [],
   "source": [
    "class OneStep(tf.keras.Model):\n",
    "    def __init__(self, model, chars_from_ids, ids_from_chars, temperature=1.0):\n",
    "        super().__init__()\n",
    "        self.temperature = temperature\n",
    "        self.model = model\n",
    "        self.chars_from_ids = chars_from_ids\n",
    "        self.ids_from_chars = ids_from_chars\n",
    "\n",
    "        # Create a mask to prevent \"[UNK]\" from being generated.\n",
    "        skip_ids = self.ids_from_chars(['[UNK]'])[:, None]\n",
    "        sparse_mask = tf.SparseTensor(\n",
    "            # Put a -inf at each bad index.\n",
    "            values=[-float('inf')]*len(skip_ids),\n",
    "            indices=skip_ids,\n",
    "            # Match the shape to the vocabulary\n",
    "            dense_shape=[len(ids_from_chars.get_vocabulary())])\n",
    "        self.prediction_mask = tf.sparse.to_dense(sparse_mask)\n",
    "\n",
    "    @tf.function\n",
    "    def generate_one_step(self, inputs, states=None):\n",
    "        # Convert strings to token IDs.\n",
    "        input_chars = tf.strings.unicode_split(inputs, 'UTF-8')\n",
    "        input_ids = self.ids_from_chars(input_chars).to_tensor()\n",
    "\n",
    "        # Run the model.\n",
    "        # predicted_logits.shape is [batch, char, next_char_logits]\n",
    "        predicted_logits, states = self.model(inputs=input_ids, states=states,\n",
    "                                          return_state=True)\n",
    "        # Only use the last prediction.\n",
    "        predicted_logits = predicted_logits[:, -1, :]\n",
    "        predicted_logits = predicted_logits/self.temperature\n",
    "        # Apply the prediction mask: prevent \"[UNK]\" from being generated.\n",
    "        predicted_logits = predicted_logits + self.prediction_mask\n",
    "\n",
    "        # Sample the output logits to generate token IDs.\n",
    "        predicted_ids = tf.random.categorical(predicted_logits, num_samples=1)\n",
    "        predicted_ids = tf.squeeze(predicted_ids, axis=-1)\n",
    "\n",
    "        # Convert from token ids to characters\n",
    "        predicted_chars = self.chars_from_ids(predicted_ids)\n",
    "\n",
    "        # Return the characters and model state.\n",
    "        return predicted_chars, states"
   ]
  },
  {
   "cell_type": "code",
   "execution_count": 29,
   "id": "be59f0ef",
   "metadata": {},
   "outputs": [],
   "source": [
    "one_step_model = OneStep(model, chars_from_ids, char_Ids)"
   ]
  },
  {
   "cell_type": "code",
   "execution_count": 30,
   "id": "5da2577f",
   "metadata": {},
   "outputs": [
    {
     "name": "stdout",
     "output_type": "stream",
     "text": [
      "whends now - i rane, hamp wonderfur spane! @hillaryclintons and more p.plecking by far (ouring of a mishase_ on @ani-tolica needs te aspmention thans thank you ale. my witcon, she is going to @sen the #vadeaga trump is unged by watch! funny, her 8?m. #sonctionsty in neat sefilly tstroy great! .@ringuq:     #vpyne speeco bear spending. the choige is my time on not. so been way bin gut the median voter.!!\"lyoo   thank you doon on any way out of the rnc. #debate i viig in the midul enforcement monna, nobory abow. i was begon ampusing vireiniels. everying the fact!_   thank you fixwy. they are the doll fight, book:   jon! the govermm at the unfits trump. .@hillaryfbid cals bigges is i i am runith say the great for on 11/8, only reforms to get out and vote - thank you horribie in notional puth of you and se. at 7pm. #vedeyto make america great wad to one grout a forert under and will anifup that the mode strongly book! your kaine of years. wow, endidnes by goit ball\n",
      "gets. hillary clinton tonigh \n",
      "\n",
      "________________________________________________________________________________\n",
      "\n",
      "Run time: 2.774162530899048\n"
     ]
    }
   ],
   "source": [
    "start = time.time()\n",
    "states = None\n",
    "next_char = tf.constant(['when'])\n",
    "result = [next_char]\n",
    "\n",
    "for n in range(1000):\n",
    "    next_char, states = one_step_model.generate_one_step(next_char, states=states)\n",
    "    result.append(next_char)\n",
    "\n",
    "result = tf.strings.join(result)\n",
    "end = time.time()\n",
    "print(result[0].numpy().decode('utf-8'), '\\n\\n' + '_'*80)\n",
    "print('\\nRun time:', end - start)"
   ]
  },
  {
   "cell_type": "code",
   "execution_count": 31,
   "id": "07b34d6b",
   "metadata": {},
   "outputs": [
    {
     "name": "stdout",
     "output_type": "stream",
     "text": [
      "tf.Tensor([b'beach #bagt and of the mild, wo had america worke!   thank you america safe a movement offor do man.?-  #makeamericagreatagain\\n  clinton #imikingrizhts me, af 7t tou'], shape=(1,), dtype=string) \n",
      "\n",
      "________________________________________________________________________________\n",
      "\n",
      "Run time: 0.3291184902191162\n"
     ]
    }
   ],
   "source": [
    "start = time.time()\n",
    "states = None\n",
    "next_char = tf.constant(['beach'])\n",
    "result = [next_char]\n",
    "\n",
    "for n in range(160):\n",
    "    next_char, states = one_step_model.generate_one_step(next_char, states=states)\n",
    "    result.append(next_char)\n",
    "\n",
    "result = tf.strings.join(result)\n",
    "end = time.time()\n",
    "print(result, '\\n\\n' + '_'*80)\n",
    "print('\\nRun time:', end - start)"
   ]
  },
  {
   "cell_type": "code",
   "execution_count": 32,
   "id": "bc0863f0",
   "metadata": {},
   "outputs": [
    {
     "name": "stdout",
     "output_type": "stream",
     "text": [
      "WARNING:tensorflow:Skipping full serialization of Keras layer <__main__.OneStep object at 0x000001C81224FE50>, because it is not built.\n"
     ]
    },
    {
     "name": "stderr",
     "output_type": "stream",
     "text": [
      "WARNING:absl:Found untraced functions such as gru_cell_layer_call_fn, gru_cell_layer_call_and_return_conditional_losses, gru_cell_layer_call_fn, gru_cell_layer_call_and_return_conditional_losses, gru_cell_layer_call_and_return_conditional_losses while saving (showing 5 of 5). These functions will not be directly callable after loading.\n"
     ]
    },
    {
     "name": "stdout",
     "output_type": "stream",
     "text": [
      "INFO:tensorflow:Assets written to: one_step\\assets\n"
     ]
    },
    {
     "name": "stderr",
     "output_type": "stream",
     "text": [
      "INFO:tensorflow:Assets written to: one_step\\assets\n"
     ]
    }
   ],
   "source": [
    "tf.saved_model.save(one_step_model, 'one_step')\n",
    "one_step_reloaded = tf.saved_model.load('one_step')"
   ]
  },
  {
   "cell_type": "code",
   "execution_count": 33,
   "id": "16d30881",
   "metadata": {},
   "outputs": [
    {
     "name": "stdout",
     "output_type": "stream",
     "text": [
      "I lover my compentine from puca sofe, in never should take dounn enjors virginia of .@hay ha. the only on truly trump country is fight for on-ith \n"
     ]
    }
   ],
   "source": [
    "states = None\n",
    "next_char = tf.constant(['I love'])\n",
    "result = [next_char]\n",
    "\n",
    "for n in range(140):\n",
    "    next_char, states = one_step_reloaded.generate_one_step(next_char, states=states)\n",
    "    result.append(next_char)\n",
    "\n",
    "print(tf.strings.join(result)[0].numpy().decode(\"utf-8\"))"
   ]
  },
  {
   "cell_type": "code",
   "execution_count": 34,
   "id": "2120616f",
   "metadata": {},
   "outputs": [
    {
     "name": "stderr",
     "output_type": "stream",
     "text": [
      "A subdirectory or file -p already exists.\n",
      "Error occurred while processing: -p.\n",
      "A subdirectory or file saved_model already exists.\n",
      "Error occurred while processing: saved_model.\n",
      "WARNING:absl:Found untraced functions such as gru_cell_layer_call_fn, gru_cell_layer_call_and_return_conditional_losses, gru_cell_layer_call_fn, gru_cell_layer_call_and_return_conditional_losses, gru_cell_layer_call_and_return_conditional_losses while saving (showing 5 of 5). These functions will not be directly callable after loading.\n"
     ]
    },
    {
     "name": "stdout",
     "output_type": "stream",
     "text": [
      "INFO:tensorflow:Assets written to: saved_model/my_model\\assets\n"
     ]
    },
    {
     "name": "stderr",
     "output_type": "stream",
     "text": [
      "INFO:tensorflow:Assets written to: saved_model/my_model\\assets\n",
      "WARNING:absl:<keras.layers.recurrent.GRUCell object at 0x000001C80AE5BF10> has the same name 'GRUCell' as a built-in Keras object. Consider renaming <class 'keras.layers.recurrent.GRUCell'> to avoid naming conflicts when loading with `tf.keras.models.load_model`. If renaming is not possible, pass the object in the `custom_objects` parameter of the load function.\n"
     ]
    }
   ],
   "source": [
    "# Save the entire model as a SavedModel.\n",
    "!mkdir -p saved_model\n",
    "model.save('saved_model/my_model')"
   ]
  }
 ],
 "metadata": {
  "kernelspec": {
   "display_name": "Python 3",
   "language": "python",
   "name": "python3"
  },
  "language_info": {
   "codemirror_mode": {
    "name": "ipython",
    "version": 3
   },
   "file_extension": ".py",
   "mimetype": "text/x-python",
   "name": "python",
   "nbconvert_exporter": "python",
   "pygments_lexer": "ipython3",
   "version": "3.8.8"
  }
 },
 "nbformat": 4,
 "nbformat_minor": 5
}
